{
 "cells": [
  {
   "cell_type": "markdown",
   "metadata": {},
   "source": [
    "# Approximated expressions for the Routh-Hurwitz Criteria for the Analysis of Stability of a BEC-OM System with a weak probe laser and a strong control laser containing OAM (BEC_10)"
   ]
  },
  {
   "cell_type": "markdown",
   "metadata": {},
   "source": [
    "## Initialization"
   ]
  },
  {
   "cell_type": "code",
   "execution_count": 1,
   "metadata": {},
   "outputs": [],
   "source": [
    "# dependencies \n",
    "from IPython.display import display, Math\n",
    "from sympy import * "
   ]
  },
  {
   "cell_type": "code",
   "execution_count": 2,
   "metadata": {},
   "outputs": [
    {
     "data": {
      "text/latex": [
       "$\\displaystyle M = \\left[\\begin{matrix}a_{1} & a_{0} & 0 & 0 & 0 & 0\\\\a_{3} & a_{2} & a_{1} & a_{0} & 0 & 0\\\\a_{5} & a_{4} & a_{3} & a_{2} & a_{1} & a_{0}\\\\0 & a_{6} & a_{5} & a_{4} & a_{3} & a_{2}\\\\0 & 0 & 0 & a_{6} & a_{5} & a_{4}\\\\0 & 0 & 0 & 0 & 0 & a_{6}\\end{matrix}\\right]$"
      ],
      "text/plain": [
       "<IPython.core.display.Math object>"
      ]
     },
     "metadata": {},
     "output_type": "display_data"
    }
   ],
   "source": [
    "# Coefficient matrix\n",
    "M = list()\n",
    "a_0, a_1, a_2, a_3, a_4, a_5, a_6 = symbols('a_0, a_1, a_2, a_3, a_4, a_5, a_6', real=True)\n",
    "temp_coeffs = [a_0, a_1, a_2, a_3, a_4, a_5, a_6]\n",
    "for i in range(6):\n",
    "    temp = list()\n",
    "    for j in range(6):\n",
    "        if 2 * i - j + 1 >=0 and 2 * i - j + 1 <= 6:\n",
    "            temp.append(temp_coeffs[2 * i - j + 1])\n",
    "        else: \n",
    "            temp.append(0)\n",
    "    M.append(temp)\n",
    "# convert to sympy matrix\n",
    "M = Matrix(M)\n",
    "\n",
    "# remove Math function to display LaTeX script\n",
    "display(Math('M = ' + latex(M)))"
   ]
  },
  {
   "cell_type": "markdown",
   "metadata": {},
   "source": [
    "## Routh-Hurwitz Sequence"
   ]
  },
  {
   "cell_type": "code",
   "execution_count": 28,
   "metadata": {},
   "outputs": [
    {
     "data": {
      "text/latex": [
       "$\\displaystyle T_{0} = a_{0}$"
      ],
      "text/plain": [
       "<IPython.core.display.Math object>"
      ]
     },
     "metadata": {},
     "output_type": "display_data"
    },
    {
     "data": {
      "text/latex": [
       "$\\displaystyle T_{1} = a_{1}$"
      ],
      "text/plain": [
       "<IPython.core.display.Math object>"
      ]
     },
     "metadata": {},
     "output_type": "display_data"
    },
    {
     "data": {
      "text/latex": [
       "$\\displaystyle T_{2} = - a_{0} a_{3} + a_{1} a_{2}$"
      ],
      "text/plain": [
       "<IPython.core.display.Math object>"
      ]
     },
     "metadata": {},
     "output_type": "display_data"
    },
    {
     "data": {
      "text/latex": [
       "$\\displaystyle T_{3} = a_{0} a_{1} a_{5} - a_{0} a_{3}^{2} - a_{1}^{2} a_{4} + a_{1} a_{2} a_{3}$"
      ],
      "text/plain": [
       "<IPython.core.display.Math object>"
      ]
     },
     "metadata": {},
     "output_type": "display_data"
    },
    {
     "data": {
      "text/latex": [
       "$\\displaystyle T_{4} = - a_{0}^{2} a_{5}^{2} - a_{0} a_{1} a_{3} a_{6} + 2 a_{0} a_{1} a_{4} a_{5} + a_{0} a_{2} a_{3} a_{5} - a_{0} a_{3}^{2} a_{4} + a_{1}^{2} a_{2} a_{6} - a_{1}^{2} a_{4}^{2} - a_{1} a_{2}^{2} a_{5} + a_{1} a_{2} a_{3} a_{4}$"
      ],
      "text/plain": [
       "<IPython.core.display.Math object>"
      ]
     },
     "metadata": {},
     "output_type": "display_data"
    },
    {
     "data": {
      "text/latex": [
       "$\\displaystyle T_{5} = - a_{0}^{2} a_{5}^{3} - 3 a_{0} a_{1} a_{3} a_{5} a_{6} + 2 a_{0} a_{1} a_{4} a_{5}^{2} + a_{0} a_{2} a_{3} a_{5}^{2} + a_{0} a_{3}^{3} a_{6} - a_{0} a_{3}^{2} a_{4} a_{5} - a_{1}^{3} a_{6}^{2} + 2 a_{1}^{2} a_{2} a_{5} a_{6} + a_{1}^{2} a_{3} a_{4} a_{6} - a_{1}^{2} a_{4}^{2} a_{5} - a_{1} a_{2}^{2} a_{5}^{2} - a_{1} a_{2} a_{3}^{2} a_{6} + a_{1} a_{2} a_{3} a_{4} a_{5}$"
      ],
      "text/plain": [
       "<IPython.core.display.Math object>"
      ]
     },
     "metadata": {},
     "output_type": "display_data"
    },
    {
     "data": {
      "text/latex": [
       "$\\displaystyle T_{6} = - a_{6} \\left(a_{0}^{2} a_{5}^{3} + 3 a_{0} a_{1} a_{3} a_{5} a_{6} - 2 a_{0} a_{1} a_{4} a_{5}^{2} - a_{0} a_{2} a_{3} a_{5}^{2} - a_{0} a_{3}^{3} a_{6} + a_{0} a_{3}^{2} a_{4} a_{5} + a_{1}^{3} a_{6}^{2} - 2 a_{1}^{2} a_{2} a_{5} a_{6} - a_{1}^{2} a_{3} a_{4} a_{6} + a_{1}^{2} a_{4}^{2} a_{5} + a_{1} a_{2}^{2} a_{5}^{2} + a_{1} a_{2} a_{3}^{2} a_{6} - a_{1} a_{2} a_{3} a_{4} a_{5}\\right)$"
      ],
      "text/plain": [
       "<IPython.core.display.Math object>"
      ]
     },
     "metadata": {},
     "output_type": "display_data"
    }
   ],
   "source": [
    "# Sequence\n",
    "seq = list()\n",
    "seq.append(temp_coeffs[0])\n",
    "for i in range(1, 7):\n",
    "    sub_M = M[:i, :i]\n",
    "    seq.append(sub_M.det(method='berkowitz').expand().factor())\n",
    "\n",
    "# remove Math function to display LaTeX script\n",
    "for i in range(len(seq)):\n",
    "    display(Math('T_{' + str(i) + '} = ' + latex(seq[i])))"
   ]
  },
  {
   "cell_type": "code",
   "execution_count": 40,
   "metadata": {},
   "outputs": [
    {
     "data": {
      "text/latex": [
       "$\\displaystyle T_{0} = 1$"
      ],
      "text/plain": [
       "<IPython.core.display.Math object>"
      ]
     },
     "metadata": {},
     "output_type": "display_data"
    },
    {
     "data": {
      "text/latex": [
       "$\\displaystyle T_{1} = \\gamma_{o}$"
      ],
      "text/plain": [
       "<IPython.core.display.Math object>"
      ]
     },
     "metadata": {},
     "output_type": "display_data"
    },
    {
     "data": {
      "text/latex": [
       "$\\displaystyle T_{2} = - 2 D_{2} \\gamma_{m} + D_{2} \\gamma_{o}$"
      ],
      "text/plain": [
       "<IPython.core.display.Math object>"
      ]
     },
     "metadata": {},
     "output_type": "display_data"
    },
    {
     "data": {
      "text/latex": [
       "$\\displaystyle T_{3} = - 4 D_{2}^{2} \\gamma_{m}^{2} + 2 D_{2}^{2} \\gamma_{m} \\gamma_{o} - D_{2} O_{2} \\gamma_{m} \\gamma_{o} + D_{N} \\gamma_{m} \\gamma_{o} - D_{N} \\gamma_{o}^{2} - O_{2} \\gamma_{m} \\gamma_{o}^{3}$"
      ],
      "text/plain": [
       "<IPython.core.display.Math object>"
      ]
     },
     "metadata": {},
     "output_type": "display_data"
    },
    {
     "data": {
      "text/latex": [
       "$\\displaystyle T_{4} = - 2 \\sqrt{A_{2}} D_{2} D_{N} \\gamma_{m} \\gamma_{o} + \\sqrt{A_{2}} D_{2} D_{N} \\gamma_{o}^{2} - 4 A_{2} D_{2}^{2} \\gamma_{m}^{2} + 2 A_{2} D_{2}^{2} \\gamma_{m} \\gamma_{o} - 2 D_{2}^{3} O_{2} \\gamma_{m}^{2} + D_{2}^{3} O_{2} \\gamma_{m} \\gamma_{o} - 2 D_{2}^{2} D_{N} \\gamma_{m}^{2} + D_{2}^{2} D_{N} \\gamma_{m} \\gamma_{o} + D_{2}^{2} O_{2}^{2} \\gamma_{m}^{2} - D_{2}^{2} O_{2}^{2} \\gamma_{m} \\gamma_{o} - 4 D_{2}^{2} O_{2} \\gamma_{m}^{3} \\gamma_{o} + 2 D_{2}^{2} O_{2} \\gamma_{m}^{2} \\gamma_{o}^{2} + D_{2} D_{N} O_{2} \\gamma_{m} \\gamma_{o} - D_{2} D_{N} O_{2} \\gamma_{o}^{2} - D_{2} O_{2}^{2} \\gamma_{m} \\gamma_{o}^{3} - D_{N}^{2} \\gamma_{m}^{2} + 2 D_{N}^{2} \\gamma_{m} \\gamma_{o} - D_{N}^{2} \\gamma_{o}^{2} + 2 D_{N} O_{2} \\gamma_{m}^{2} \\gamma_{o}^{2} - 2 D_{N} O_{2} \\gamma_{m} \\gamma_{o}^{3} - O_{2}^{2} \\gamma_{m}^{2} \\gamma_{o}^{4}$"
      ],
      "text/plain": [
       "<IPython.core.display.Math object>"
      ]
     },
     "metadata": {},
     "output_type": "display_data"
    },
    {
     "data": {
      "text/latex": [
       "$\\displaystyle T_{5} = - 4 A_{2}^{\\frac{3}{2}} D_{2} D_{N} \\gamma_{m} \\gamma_{o}^{2} + 8 \\sqrt{A_{2}} D_{2}^{3} D_{N} \\gamma_{m}^{3} - 4 \\sqrt{A_{2}} D_{2}^{3} D_{N} \\gamma_{m}^{2} \\gamma_{o} + 2 \\sqrt{A_{2}} D_{2}^{2} D_{N} O_{2} \\gamma_{m}^{2} \\gamma_{o} - 6 \\sqrt{A_{2}} D_{2} D_{N}^{2} \\gamma_{m}^{2} \\gamma_{o} + 4 \\sqrt{A_{2}} D_{2} D_{N}^{2} \\gamma_{m} \\gamma_{o}^{2} + \\sqrt{A_{2}} D_{2} D_{N} O_{2}^{2} \\gamma_{m} \\gamma_{o}^{2} + 2 \\sqrt{A_{2}} D_{2} D_{N} O_{2} \\gamma_{m}^{2} \\gamma_{o}^{3} - \\sqrt{A_{2}} D_{N}^{2} O_{2} \\gamma_{m} \\gamma_{o}^{2} + \\sqrt{A_{2}} D_{N}^{2} O_{2} \\gamma_{o}^{3} + \\sqrt{A_{2}} D_{N} O_{2}^{2} \\gamma_{m} \\gamma_{o}^{4} - 4 A_{2}^{2} D_{2}^{2} \\gamma_{m}^{2} \\gamma_{o} + 8 A_{2} D_{2}^{4} \\gamma_{m}^{3} - 4 A_{2} D_{2}^{4} \\gamma_{m}^{2} \\gamma_{o} - 4 A_{2} D_{2}^{3} O_{2} \\gamma_{m}^{3} + 4 A_{2} D_{2}^{3} O_{2} \\gamma_{m}^{2} \\gamma_{o} - 4 A_{2} D_{2}^{2} D_{N} \\gamma_{m}^{3} - 4 A_{2} D_{2}^{2} D_{N} \\gamma_{m}^{2} \\gamma_{o} + 4 A_{2} D_{2}^{2} D_{N} \\gamma_{m} \\gamma_{o}^{2} + A_{2} D_{2}^{2} O_{2}^{2} \\gamma_{m}^{2} \\gamma_{o} - 4 A_{2} D_{2}^{2} O_{2} \\gamma_{m}^{3} \\gamma_{o}^{2} + 4 A_{2} D_{2}^{2} O_{2} \\gamma_{m}^{2} \\gamma_{o}^{3} - A_{2} D_{N}^{2} \\gamma_{m}^{2} \\gamma_{o} + 2 A_{2} D_{N}^{2} \\gamma_{m} \\gamma_{o}^{2} - 2 A_{2} D_{N}^{2} \\gamma_{o}^{3} + 2 A_{2} D_{N} O_{2} \\gamma_{m}^{2} \\gamma_{o}^{3} - 2 A_{2} D_{N} O_{2} \\gamma_{m} \\gamma_{o}^{4} - A_{2} O_{2}^{2} \\gamma_{m}^{2} \\gamma_{o}^{5} - 2 D_{2}^{4} O_{2}^{2} \\gamma_{m}^{3} + D_{2}^{4} O_{2}^{2} \\gamma_{m}^{2} \\gamma_{o} - 4 D_{2}^{3} D_{N} O_{2} \\gamma_{m}^{3} + 2 D_{2}^{3} D_{N} O_{2} \\gamma_{m}^{2} \\gamma_{o} + D_{2}^{3} O_{2}^{3} \\gamma_{m}^{3} - D_{2}^{3} O_{2}^{3} \\gamma_{m}^{2} \\gamma_{o} - 4 D_{2}^{3} O_{2}^{2} \\gamma_{m}^{4} \\gamma_{o} + 2 D_{2}^{3} O_{2}^{2} \\gamma_{m}^{3} \\gamma_{o}^{2} - 2 D_{2}^{2} D_{N}^{2} \\gamma_{m}^{3} + D_{2}^{2} D_{N}^{2} \\gamma_{m}^{2} \\gamma_{o} + D_{2}^{2} D_{N} O_{2}^{2} \\gamma_{m}^{3} - D_{2}^{2} D_{N} O_{2}^{2} \\gamma_{m} \\gamma_{o}^{2} - 4 D_{2}^{2} D_{N} O_{2} \\gamma_{m}^{4} \\gamma_{o} + 2 D_{2}^{2} D_{N} O_{2} \\gamma_{m}^{3} \\gamma_{o}^{2} - D_{2}^{2} O_{2}^{3} \\gamma_{m}^{2} \\gamma_{o}^{3} - D_{2} D_{N}^{2} O_{2} \\gamma_{m}^{3} + 3 D_{2} D_{N}^{2} O_{2} \\gamma_{m}^{2} \\gamma_{o} - 2 D_{2} D_{N}^{2} O_{2} \\gamma_{m} \\gamma_{o}^{2} + 2 D_{2} D_{N} O_{2}^{2} \\gamma_{m}^{3} \\gamma_{o}^{2} - 3 D_{2} D_{N} O_{2}^{2} \\gamma_{m}^{2} \\gamma_{o}^{3} - D_{2} O_{2}^{3} \\gamma_{m}^{3} \\gamma_{o}^{4} - D_{N}^{3} \\gamma_{m}^{3} + 2 D_{N}^{3} \\gamma_{m}^{2} \\gamma_{o} - D_{N}^{3} \\gamma_{m} \\gamma_{o}^{2} + 2 D_{N}^{2} O_{2} \\gamma_{m}^{3} \\gamma_{o}^{2} - 2 D_{N}^{2} O_{2} \\gamma_{m}^{2} \\gamma_{o}^{3} - D_{N} O_{2}^{2} \\gamma_{m}^{3} \\gamma_{o}^{4}$"
      ],
      "text/plain": [
       "<IPython.core.display.Math object>"
      ]
     },
     "metadata": {},
     "output_type": "display_data"
    },
    {
     "data": {
      "text/latex": [
       "$\\displaystyle T_{6} = - 4 A_{2}^{\\frac{5}{2}} D_{2}^{2} D_{N} \\gamma_{m}^{2} \\gamma_{o} - 4 A_{2}^{\\frac{5}{2}} D_{2}^{2} D_{N} \\gamma_{m} \\gamma_{o}^{2} + 16 A_{2}^{\\frac{3}{2}} D_{2}^{4} D_{N} \\gamma_{m}^{3} - 8 A_{2}^{\\frac{3}{2}} D_{2}^{4} D_{N} \\gamma_{m}^{2} \\gamma_{o} - 4 A_{2}^{\\frac{3}{2}} D_{2}^{3} D_{N} O_{2} \\gamma_{m}^{3} + 6 A_{2}^{\\frac{3}{2}} D_{2}^{3} D_{N} O_{2} \\gamma_{m}^{2} \\gamma_{o} - 4 A_{2}^{\\frac{3}{2}} D_{2}^{2} D_{N}^{2} \\gamma_{m}^{3} - 10 A_{2}^{\\frac{3}{2}} D_{2}^{2} D_{N}^{2} \\gamma_{m}^{2} \\gamma_{o} + 8 A_{2}^{\\frac{3}{2}} D_{2}^{2} D_{N}^{2} \\gamma_{m} \\gamma_{o}^{2} + A_{2}^{\\frac{3}{2}} D_{2}^{2} D_{N} O_{2}^{2} \\gamma_{m}^{2} \\gamma_{o} + A_{2}^{\\frac{3}{2}} D_{2}^{2} D_{N} O_{2}^{2} \\gamma_{m} \\gamma_{o}^{2} - 4 A_{2}^{\\frac{3}{2}} D_{2}^{2} D_{N} O_{2} \\gamma_{m}^{3} \\gamma_{o}^{2} + 6 A_{2}^{\\frac{3}{2}} D_{2}^{2} D_{N} O_{2} \\gamma_{m}^{2} \\gamma_{o}^{3} - A_{2}^{\\frac{3}{2}} D_{2} D_{N}^{2} O_{2} \\gamma_{m} \\gamma_{o}^{2} + A_{2}^{\\frac{3}{2}} D_{2} D_{N}^{2} O_{2} \\gamma_{o}^{3} + A_{2}^{\\frac{3}{2}} D_{2} D_{N} O_{2}^{2} \\gamma_{m} \\gamma_{o}^{4} - A_{2}^{\\frac{3}{2}} D_{N}^{3} \\gamma_{m}^{2} \\gamma_{o} + 2 A_{2}^{\\frac{3}{2}} D_{N}^{3} \\gamma_{m} \\gamma_{o}^{2} - 2 A_{2}^{\\frac{3}{2}} D_{N}^{3} \\gamma_{o}^{3} + 2 A_{2}^{\\frac{3}{2}} D_{N}^{2} O_{2} \\gamma_{m}^{2} \\gamma_{o}^{3} - 2 A_{2}^{\\frac{3}{2}} D_{N}^{2} O_{2} \\gamma_{m} \\gamma_{o}^{4} - A_{2}^{\\frac{3}{2}} D_{N} O_{2}^{2} \\gamma_{m}^{2} \\gamma_{o}^{5} - 2 \\sqrt{A_{2}} D_{2}^{4} D_{N} O_{2}^{2} \\gamma_{m}^{3} + \\sqrt{A_{2}} D_{2}^{4} D_{N} O_{2}^{2} \\gamma_{m}^{2} \\gamma_{o} - 4 \\sqrt{A_{2}} D_{2}^{3} D_{N}^{2} O_{2} \\gamma_{m}^{3} + 2 \\sqrt{A_{2}} D_{2}^{3} D_{N}^{2} O_{2} \\gamma_{m}^{2} \\gamma_{o} + \\sqrt{A_{2}} D_{2}^{3} D_{N} O_{2}^{3} \\gamma_{m}^{3} - \\sqrt{A_{2}} D_{2}^{3} D_{N} O_{2}^{3} \\gamma_{m}^{2} \\gamma_{o} - 4 \\sqrt{A_{2}} D_{2}^{3} D_{N} O_{2}^{2} \\gamma_{m}^{4} \\gamma_{o} + 2 \\sqrt{A_{2}} D_{2}^{3} D_{N} O_{2}^{2} \\gamma_{m}^{3} \\gamma_{o}^{2} - 2 \\sqrt{A_{2}} D_{2}^{2} D_{N}^{3} \\gamma_{m}^{3} + \\sqrt{A_{2}} D_{2}^{2} D_{N}^{3} \\gamma_{m}^{2} \\gamma_{o} + \\sqrt{A_{2}} D_{2}^{2} D_{N}^{2} O_{2}^{2} \\gamma_{m}^{3} - \\sqrt{A_{2}} D_{2}^{2} D_{N}^{2} O_{2}^{2} \\gamma_{m} \\gamma_{o}^{2} - 4 \\sqrt{A_{2}} D_{2}^{2} D_{N}^{2} O_{2} \\gamma_{m}^{4} \\gamma_{o} + 2 \\sqrt{A_{2}} D_{2}^{2} D_{N}^{2} O_{2} \\gamma_{m}^{3} \\gamma_{o}^{2} - \\sqrt{A_{2}} D_{2}^{2} D_{N} O_{2}^{3} \\gamma_{m}^{2} \\gamma_{o}^{3} - \\sqrt{A_{2}} D_{2} D_{N}^{3} O_{2} \\gamma_{m}^{3} + 3 \\sqrt{A_{2}} D_{2} D_{N}^{3} O_{2} \\gamma_{m}^{2} \\gamma_{o} - 2 \\sqrt{A_{2}} D_{2} D_{N}^{3} O_{2} \\gamma_{m} \\gamma_{o}^{2} + 2 \\sqrt{A_{2}} D_{2} D_{N}^{2} O_{2}^{2} \\gamma_{m}^{3} \\gamma_{o}^{2} - 3 \\sqrt{A_{2}} D_{2} D_{N}^{2} O_{2}^{2} \\gamma_{m}^{2} \\gamma_{o}^{3} - \\sqrt{A_{2}} D_{2} D_{N} O_{2}^{3} \\gamma_{m}^{3} \\gamma_{o}^{4} - \\sqrt{A_{2}} D_{N}^{4} \\gamma_{m}^{3} + 2 \\sqrt{A_{2}} D_{N}^{4} \\gamma_{m}^{2} \\gamma_{o} - \\sqrt{A_{2}} D_{N}^{4} \\gamma_{m} \\gamma_{o}^{2} + 2 \\sqrt{A_{2}} D_{N}^{3} O_{2} \\gamma_{m}^{3} \\gamma_{o}^{2} - 2 \\sqrt{A_{2}} D_{N}^{3} O_{2} \\gamma_{m}^{2} \\gamma_{o}^{3} - \\sqrt{A_{2}} D_{N}^{2} O_{2}^{2} \\gamma_{m}^{3} \\gamma_{o}^{4} - 4 A_{2}^{3} D_{2}^{3} \\gamma_{m}^{2} \\gamma_{o} + 8 A_{2}^{2} D_{2}^{5} \\gamma_{m}^{3} - 4 A_{2}^{2} D_{2}^{5} \\gamma_{m}^{2} \\gamma_{o} - 4 A_{2}^{2} D_{2}^{4} O_{2} \\gamma_{m}^{3} + 4 A_{2}^{2} D_{2}^{4} O_{2} \\gamma_{m}^{2} \\gamma_{o} - 4 A_{2}^{2} D_{2}^{3} D_{N} \\gamma_{m}^{3} - 4 A_{2}^{2} D_{2}^{3} D_{N} \\gamma_{m}^{2} \\gamma_{o} + 4 A_{2}^{2} D_{2}^{3} D_{N} \\gamma_{m} \\gamma_{o}^{2} + A_{2}^{2} D_{2}^{3} O_{2}^{2} \\gamma_{m}^{2} \\gamma_{o} - 4 A_{2}^{2} D_{2}^{3} O_{2} \\gamma_{m}^{3} \\gamma_{o}^{2} + 4 A_{2}^{2} D_{2}^{3} O_{2} \\gamma_{m}^{2} \\gamma_{o}^{3} - A_{2}^{2} D_{2} D_{N}^{2} \\gamma_{m}^{2} \\gamma_{o} - 2 A_{2}^{2} D_{2} D_{N}^{2} \\gamma_{m} \\gamma_{o}^{2} - 2 A_{2}^{2} D_{2} D_{N}^{2} \\gamma_{o}^{3} + 2 A_{2}^{2} D_{2} D_{N} O_{2} \\gamma_{m}^{2} \\gamma_{o}^{3} - 2 A_{2}^{2} D_{2} D_{N} O_{2} \\gamma_{m} \\gamma_{o}^{4} - A_{2}^{2} D_{2} O_{2}^{2} \\gamma_{m}^{2} \\gamma_{o}^{5} - 2 A_{2} D_{2}^{5} O_{2}^{2} \\gamma_{m}^{3} + A_{2} D_{2}^{5} O_{2}^{2} \\gamma_{m}^{2} \\gamma_{o} - 4 A_{2} D_{2}^{4} D_{N} O_{2} \\gamma_{m}^{3} + 2 A_{2} D_{2}^{4} D_{N} O_{2} \\gamma_{m}^{2} \\gamma_{o} + A_{2} D_{2}^{4} O_{2}^{3} \\gamma_{m}^{3} - A_{2} D_{2}^{4} O_{2}^{3} \\gamma_{m}^{2} \\gamma_{o} - 4 A_{2} D_{2}^{4} O_{2}^{2} \\gamma_{m}^{4} \\gamma_{o} + 2 A_{2} D_{2}^{4} O_{2}^{2} \\gamma_{m}^{3} \\gamma_{o}^{2} + 6 A_{2} D_{2}^{3} D_{N}^{2} \\gamma_{m}^{3} - 3 A_{2} D_{2}^{3} D_{N}^{2} \\gamma_{m}^{2} \\gamma_{o} + A_{2} D_{2}^{3} D_{N} O_{2}^{2} \\gamma_{m}^{3} - A_{2} D_{2}^{3} D_{N} O_{2}^{2} \\gamma_{m} \\gamma_{o}^{2} - 4 A_{2} D_{2}^{3} D_{N} O_{2} \\gamma_{m}^{4} \\gamma_{o} + 2 A_{2} D_{2}^{3} D_{N} O_{2} \\gamma_{m}^{3} \\gamma_{o}^{2} - A_{2} D_{2}^{3} O_{2}^{3} \\gamma_{m}^{2} \\gamma_{o}^{3} - A_{2} D_{2}^{2} D_{N}^{2} O_{2} \\gamma_{m}^{3} + 5 A_{2} D_{2}^{2} D_{N}^{2} O_{2} \\gamma_{m}^{2} \\gamma_{o} - 2 A_{2} D_{2}^{2} D_{N}^{2} O_{2} \\gamma_{m} \\gamma_{o}^{2} + 2 A_{2} D_{2}^{2} D_{N} O_{2}^{2} \\gamma_{m}^{3} \\gamma_{o}^{2} - 3 A_{2} D_{2}^{2} D_{N} O_{2}^{2} \\gamma_{m}^{2} \\gamma_{o}^{3} - A_{2} D_{2}^{2} O_{2}^{3} \\gamma_{m}^{3} \\gamma_{o}^{4} - A_{2} D_{2} D_{N}^{3} \\gamma_{m}^{3} - 4 A_{2} D_{2} D_{N}^{3} \\gamma_{m}^{2} \\gamma_{o} + 3 A_{2} D_{2} D_{N}^{3} \\gamma_{m} \\gamma_{o}^{2} + A_{2} D_{2} D_{N}^{2} O_{2}^{2} \\gamma_{m} \\gamma_{o}^{2} + 2 A_{2} D_{2} D_{N}^{2} O_{2} \\gamma_{m}^{3} \\gamma_{o}^{2} - A_{2} D_{2} D_{N} O_{2}^{2} \\gamma_{m}^{3} \\gamma_{o}^{4} - A_{2} D_{N}^{3} O_{2} \\gamma_{m} \\gamma_{o}^{2} + A_{2} D_{N}^{3} O_{2} \\gamma_{o}^{3} + A_{2} D_{N}^{2} O_{2}^{2} \\gamma_{m} \\gamma_{o}^{4}$"
      ],
      "text/plain": [
       "<IPython.core.display.Math object>"
      ]
     },
     "metadata": {},
     "output_type": "display_data"
    }
   ],
   "source": [
    "A_2, D_2, D_N, O_2, gamma_m, gamma_o = symbols('A_2, D_2, D_N, O_2, \\\\gamma_m, \\\\gamma_o', real=True)\n",
    "list_subs = [\n",
    "    (temp_coeffs[0], 1),\n",
    "    (temp_coeffs[1], gamma_o),\n",
    "    (temp_coeffs[2], D_2 + O_2),\n",
    "    (temp_coeffs[3], 2 * D_2 * gamma_m + O_2 * gamma_o),\n",
    "    (temp_coeffs[4], A_2 + D_2 * O_2 + D_N + O_2 * gamma_m * gamma_o),\n",
    "    (temp_coeffs[5], A_2 * gamma_o + D_2 * O_2 * gamma_m + D_N * gamma_m),\n",
    "    (temp_coeffs[6], A_2 * D_2 + sqrt(A_2) * D_N)\n",
    "]\n",
    "seq_sub = list()\n",
    "for s in seq:\n",
    "    seq_sub.append(s.subs(list_subs).expand())\n",
    "\n",
    "# remove Math function to display LaTeX script\n",
    "for i in range(len(seq)):\n",
    "    display(Math('T_{' + str(i) + '} = ' + latex(seq_sub[i])))"
   ]
  }
 ],
 "metadata": {
  "interpreter": {
   "hash": "ab55f75ae889d71844288485c8e89a4155ba3ae3fa9ca8fdd5bcd8a52b4476c7"
  },
  "kernelspec": {
   "display_name": "Python 3.8.12 ('qom')",
   "language": "python",
   "name": "python3"
  },
  "language_info": {
   "codemirror_mode": {
    "name": "ipython",
    "version": 3
   },
   "file_extension": ".py",
   "mimetype": "text/x-python",
   "name": "python",
   "nbconvert_exporter": "python",
   "pygments_lexer": "ipython3",
   "version": "3.8.12"
  },
  "orig_nbformat": 4
 },
 "nbformat": 4,
 "nbformat_minor": 2
}
