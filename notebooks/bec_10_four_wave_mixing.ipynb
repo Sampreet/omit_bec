{
 "cells": [
  {
   "cell_type": "markdown",
   "metadata": {},
   "source": [
    "# Calculation of Four-wave-mixing for a BEC-OM Model with a weak probe laser and a strong control laser containing OAM (BEC_10)"
   ]
  },
  {
   "cell_type": "markdown",
   "metadata": {},
   "source": [
    "## Initialization"
   ]
  },
  {
   "cell_type": "code",
   "execution_count": 2,
   "metadata": {},
   "outputs": [],
   "source": [
    "## dependencies\n",
    "from IPython.display import display, Math\n",
    "from sympy import *\n",
    "from sympy.physics.quantum import Commutator, Dagger, Operator\n",
    "from sympy.physics.quantum.constants import hbar\n",
    "\n",
    "init_printing(use_latex=True)"
   ]
  },
  {
   "cell_type": "code",
   "execution_count": 3,
   "metadata": {},
   "outputs": [],
   "source": [
    "# parameters\n",
    "omega_o, omega_l, omega_p, omega_c_p, omega_d_p, Omega_c, Omega_d, gamma_o, gamma_c, gamma_d, mu, N_b, A, t = symbols('omega_o, omega_l, omega_p, \\\\omega_c^\\\\prime, \\\\omega_d^\\\\prime, Omega_c, Omega_d, gamma_o, gamma_c, gamma_d, mu, N_b, \\\\mathcal{A}, t', real=True, positive=True)\n",
    "delta, Delta_t, G = symbols('delta, \\\\tilde{\\\\Delta}, G', real=True)\n",
    "eta_l, eta_p = symbols('eta_l, eta_p', real=True)\n",
    "\n",
    "# classical modes\n",
    "alpha_t = Function('\\\\alpha', complex=True)(t)\n",
    "q_c_t = Function('q_c', complex=True)(t)\n",
    "q_d_t = Function('q_d', complex=True)(t)"
   ]
  },
  {
   "cell_type": "markdown",
   "metadata": {},
   "source": [
    "## Classical Equations"
   ]
  },
  {
   "cell_type": "code",
   "execution_count": 4,
   "metadata": {},
   "outputs": [
    {
     "data": {
      "text/latex": [
       "$\\displaystyle - \\eta_{l} - \\eta_{p} e^{- i \\delta t} + \\frac{\\gamma_{o} \\alpha{\\left(t \\right)}}{2} - i \\left(- G \\left(\\operatorname{q_{c}}{\\left(t \\right)} + \\operatorname{q_{d}}{\\left(t \\right)}\\right) + \\tilde{\\Delta}\\right) \\alpha{\\left(t \\right)} + \\frac{d}{d t} \\alpha{\\left(t \\right)}= 0$"
      ],
      "text/plain": [
       "<IPython.core.display.Math object>"
      ]
     },
     "metadata": {},
     "output_type": "display_data"
    },
    {
     "data": {
      "text/latex": [
       "$\\displaystyle G \\omega_c^\\prime \\alpha{\\left(t \\right)} \\overline{\\alpha{\\left(t \\right)}} + \\Omega_{c}^{2} \\operatorname{q_{c}}{\\left(t \\right)} + \\mathcal{A} \\operatorname{q_{d}}{\\left(t \\right)} + \\gamma_{c} \\frac{d}{d t} \\operatorname{q_{c}}{\\left(t \\right)} + \\frac{d^{2}}{d t^{2}} \\operatorname{q_{c}}{\\left(t \\right)}= 0$"
      ],
      "text/plain": [
       "<IPython.core.display.Math object>"
      ]
     },
     "metadata": {},
     "output_type": "display_data"
    },
    {
     "data": {
      "text/latex": [
       "$\\displaystyle G \\omega_d^\\prime \\alpha{\\left(t \\right)} \\overline{\\alpha{\\left(t \\right)}} + \\Omega_{d}^{2} \\operatorname{q_{d}}{\\left(t \\right)} - \\mathcal{A} \\operatorname{q_{c}}{\\left(t \\right)} + \\gamma_{d} \\frac{d}{d t} \\operatorname{q_{d}}{\\left(t \\right)} + \\frac{d^{2}}{d t^{2}} \\operatorname{q_{d}}{\\left(t \\right)}= 0$"
      ],
      "text/plain": [
       "<IPython.core.display.Math object>"
      ]
     },
     "metadata": {},
     "output_type": "display_data"
    }
   ],
   "source": [
    "# rate equations\n",
    "eqtn_alpha_t = diff(alpha_t) - I * (Delta_t - G * (q_c_t + q_d_t)) * alpha_t + gamma_o / 2 * alpha_t - eta_l - eta_p * exp(-I * delta * t)\n",
    "eqtn_q_c_t = diff(diff(q_c_t)) + gamma_c * diff(q_c_t) + Omega_c**2 * q_c_t + omega_c_p * G * conjugate(alpha_t) * alpha_t + A * q_d_t\n",
    "eqtn_q_d_t = diff(diff(q_d_t)) + gamma_d * diff(q_d_t) + Omega_d**2 * q_d_t + omega_d_p * G * conjugate(alpha_t) * alpha_t - A * q_c_t\n",
    "\n",
    "# remove Math function to display LaTeX script\n",
    "display(Math(latex(eqtn_alpha_t) + '= 0'))\n",
    "display(Math(latex(eqtn_q_c_t) + '= 0'))\n",
    "display(Math(latex(eqtn_q_d_t) + '= 0'))"
   ]
  },
  {
   "cell_type": "markdown",
   "metadata": {},
   "source": [
    "## Ansatz for FWM"
   ]
  },
  {
   "cell_type": "code",
   "execution_count": 5,
   "metadata": {},
   "outputs": [
    {
     "data": {
      "text/latex": [
       "$\\displaystyle \\alpha{\\left(t \\right)} = A_{+} e^{i \\delta t} + A_{-} e^{- i \\delta t} + \\alpha_{s}$"
      ],
      "text/plain": [
       "<IPython.core.display.Math object>"
      ]
     },
     "metadata": {},
     "output_type": "display_data"
    },
    {
     "data": {
      "text/latex": [
       "$\\displaystyle \\operatorname{q_{c}}{\\left(t \\right)} = C_{+} e^{i \\delta t} + C_{-} e^{- i \\delta t} + q_{cs}$"
      ],
      "text/plain": [
       "<IPython.core.display.Math object>"
      ]
     },
     "metadata": {},
     "output_type": "display_data"
    },
    {
     "data": {
      "text/latex": [
       "$\\displaystyle \\operatorname{q_{d}}{\\left(t \\right)} = D_{+} e^{i \\delta t} + D_{-} e^{- i \\delta t} + q_{ds}$"
      ],
      "text/plain": [
       "<IPython.core.display.Math object>"
      ]
     },
     "metadata": {},
     "output_type": "display_data"
    }
   ],
   "source": [
    "# ansatz parameters\n",
    "alpha_s, A_p, A_m = symbols('alpha_s, A_+, A_-', complex=True)\n",
    "q_cs, q_ds, C_p, C_m, D_p, D_m = symbols('q_{cs}, q_{ds}, C_+, C_-, D_+, D_-', complex=True)\n",
    "\n",
    "# steady state expressions\n",
    "expr_alpha_t = alpha_s + exp(I * delta * t) * A_p + exp(- I * delta * t) * A_m\n",
    "expr_q_c_t = q_cs + exp(I * delta * t) * C_p + exp(- I * delta * t) * C_m\n",
    "expr_q_d_t = q_ds + exp(I * delta * t) * D_p + exp(- I * delta * t) * D_m\n",
    "\n",
    "# remove Math function to display LaTeX script\n",
    "display(Math(latex(alpha_t) + ' = ' + latex(expr_alpha_t)))\n",
    "display(Math(latex(q_c_t) + ' = ' + latex(expr_q_c_t)))\n",
    "display(Math(latex(q_d_t) + ' = ' + latex(expr_q_d_t)))"
   ]
  },
  {
   "cell_type": "code",
   "execution_count": 6,
   "metadata": {},
   "outputs": [
    {
     "data": {
      "text/latex": [
       "$\\displaystyle i G \\alpha_{s} q_{cs} + i G \\alpha_{s} q_{ds} - i \\tilde{\\Delta} \\alpha_{s} + \\frac{\\alpha_{s} \\gamma_{o}}{2} - \\eta_{l} + \\left(i A_{+} G q_{cs} + i A_{+} G q_{ds} - i A_{+} \\tilde{\\Delta} + i A_{+} \\delta + \\frac{A_{+} \\gamma_{o}}{2} + i C_{+} G \\alpha_{s} + i D_{+} G \\alpha_{s}\\right) e^{i \\delta t} + \\left(i A_{-} G q_{cs} + i A_{-} G q_{ds} - i A_{-} \\tilde{\\Delta} - i A_{-} \\delta + \\frac{A_{-} \\gamma_{o}}{2} + i C_{-} G \\alpha_{s} + i D_{-} G \\alpha_{s} - \\eta_{p}\\right) e^{- i \\delta t}= 0$"
      ],
      "text/plain": [
       "<IPython.core.display.Math object>"
      ]
     },
     "metadata": {},
     "output_type": "display_data"
    },
    {
     "data": {
      "text/latex": [
       "$\\displaystyle G \\omega_c^\\prime \\alpha_{s} \\overline{\\alpha_{s}} + \\Omega_{c}^{2} q_{cs} + \\mathcal{A} q_{ds} + \\left(A_{+} G \\omega_c^\\prime \\overline{\\alpha_{s}} + C_{+} \\Omega_{c}^{2} - C_{+} \\delta^{2} + i C_{+} \\delta \\gamma_{c} + D_{+} \\mathcal{A} + G \\omega_c^\\prime \\alpha_{s} \\overline{A_{-}}\\right) e^{i \\delta t} + \\left(A_{-} G \\omega_c^\\prime \\overline{\\alpha_{s}} + C_{-} \\Omega_{c}^{2} - C_{-} \\delta^{2} - i C_{-} \\delta \\gamma_{c} + D_{-} \\mathcal{A} + G \\omega_c^\\prime \\alpha_{s} \\overline{A_{+}}\\right) e^{- i \\delta t}= 0$"
      ],
      "text/plain": [
       "<IPython.core.display.Math object>"
      ]
     },
     "metadata": {},
     "output_type": "display_data"
    },
    {
     "data": {
      "text/latex": [
       "$\\displaystyle G \\omega_d^\\prime \\alpha_{s} \\overline{\\alpha_{s}} + \\Omega_{d}^{2} q_{ds} - \\mathcal{A} q_{cs} + \\left(A_{+} G \\omega_d^\\prime \\overline{\\alpha_{s}} - C_{+} \\mathcal{A} + D_{+} \\Omega_{d}^{2} - D_{+} \\delta^{2} + i D_{+} \\delta \\gamma_{d} + G \\omega_d^\\prime \\alpha_{s} \\overline{A_{-}}\\right) e^{i \\delta t} + \\left(A_{-} G \\omega_d^\\prime \\overline{\\alpha_{s}} - C_{-} \\mathcal{A} + D_{-} \\Omega_{d}^{2} - D_{-} \\delta^{2} - i D_{-} \\delta \\gamma_{d} + G \\omega_d^\\prime \\alpha_{s} \\overline{A_{+}}\\right) e^{- i \\delta t}= 0$"
      ],
      "text/plain": [
       "<IPython.core.display.Math object>"
      ]
     },
     "metadata": {},
     "output_type": "display_data"
    }
   ],
   "source": [
    "# substitution\n",
    "list_subs = [(alpha_t, expr_alpha_t), (conjugate(alpha_t), conjugate(expr_alpha_t)), (q_c_t, expr_q_c_t), (q_d_t, expr_q_d_t)]\n",
    "list_coll = [exp(I * delta * t), exp(- I * delta * t)]\n",
    "eqtn_alpha_s_t = eqtn_alpha_t.subs(list_subs).doit().expand().collect(list_coll)\n",
    "eqtn_q_cs_t = eqtn_q_c_t.subs(list_subs).doit().expand().collect(list_coll)\n",
    "eqtn_q_ds_t = eqtn_q_d_t.subs(list_subs).doit().expand().collect(list_coll)\n",
    "\n",
    "# neglecting terms\n",
    "amps = [A_p, A_m, C_p, C_m, D_p, D_m]\n",
    "list_subs = [(i * j, 0) for i in amps for j in amps]\n",
    "list_subs += [(A_p * conjugate(A_m), 0), (A_m * conjugate(A_p), 0), (A_p * conjugate(A_p), 0), (A_m * conjugate(A_m), 0)]\n",
    "eqtn_alpha_s_t = eqtn_alpha_s_t.subs(list_subs)\n",
    "eqtn_q_cs_t = eqtn_q_cs_t.subs(list_subs)\n",
    "eqtn_q_ds_t = eqtn_q_ds_t.subs(list_subs)\n",
    "\n",
    "# remove Math function to display LaTeX script\n",
    "display(Math(latex(eqtn_alpha_s_t) + '= 0'))\n",
    "display(Math(latex(eqtn_q_cs_t) + '= 0'))\n",
    "display(Math(latex(eqtn_q_ds_t) + '= 0'))"
   ]
  },
  {
   "cell_type": "code",
   "execution_count": 7,
   "metadata": {},
   "outputs": [
    {
     "data": {
      "text/latex": [
       "$\\displaystyle i A_{+} G q_{cs} + i A_{+} G q_{ds} - i A_{+} \\tilde{\\Delta} + i A_{+} \\delta + \\frac{A_{+} \\gamma_{o}}{2} + i C_{+} G \\alpha_{s} + i D_{+} G \\alpha_{s}= 0$"
      ],
      "text/plain": [
       "<IPython.core.display.Math object>"
      ]
     },
     "metadata": {},
     "output_type": "display_data"
    },
    {
     "data": {
      "text/latex": [
       "$\\displaystyle A_{+} G \\omega_c^\\prime \\overline{\\alpha_{s}} + C_{+} \\Omega_{c}^{2} - C_{+} \\delta^{2} + i C_{+} \\delta \\gamma_{c} + D_{+} \\mathcal{A} + G \\omega_c^\\prime \\alpha_{s} \\overline{A_{-}}= 0$"
      ],
      "text/plain": [
       "<IPython.core.display.Math object>"
      ]
     },
     "metadata": {},
     "output_type": "display_data"
    },
    {
     "data": {
      "text/latex": [
       "$\\displaystyle A_{+} G \\omega_d^\\prime \\overline{\\alpha_{s}} - C_{+} \\mathcal{A} + D_{+} \\Omega_{d}^{2} - D_{+} \\delta^{2} + i D_{+} \\delta \\gamma_{d} + G \\omega_d^\\prime \\alpha_{s} \\overline{A_{-}}= 0$"
      ],
      "text/plain": [
       "<IPython.core.display.Math object>"
      ]
     },
     "metadata": {},
     "output_type": "display_data"
    },
    {
     "data": {
      "text/latex": [
       "$\\displaystyle i A_{-} G q_{cs} + i A_{-} G q_{ds} - i A_{-} \\tilde{\\Delta} - i A_{-} \\delta + \\frac{A_{-} \\gamma_{o}}{2} + i C_{-} G \\alpha_{s} + i D_{-} G \\alpha_{s} - \\eta_{p}= 0$"
      ],
      "text/plain": [
       "<IPython.core.display.Math object>"
      ]
     },
     "metadata": {},
     "output_type": "display_data"
    },
    {
     "data": {
      "text/latex": [
       "$\\displaystyle A_{-} G \\omega_c^\\prime \\overline{\\alpha_{s}} + C_{-} \\Omega_{c}^{2} - C_{-} \\delta^{2} - i C_{-} \\delta \\gamma_{c} + D_{-} \\mathcal{A} + G \\omega_c^\\prime \\alpha_{s} \\overline{A_{+}}= 0$"
      ],
      "text/plain": [
       "<IPython.core.display.Math object>"
      ]
     },
     "metadata": {},
     "output_type": "display_data"
    },
    {
     "data": {
      "text/latex": [
       "$\\displaystyle A_{-} G \\omega_d^\\prime \\overline{\\alpha_{s}} - C_{-} \\mathcal{A} + D_{-} \\Omega_{d}^{2} - D_{-} \\delta^{2} - i D_{-} \\delta \\gamma_{d} + G \\omega_d^\\prime \\alpha_{s} \\overline{A_{+}}= 0$"
      ],
      "text/plain": [
       "<IPython.core.display.Math object>"
      ]
     },
     "metadata": {},
     "output_type": "display_data"
    },
    {
     "data": {
      "text/latex": [
       "$\\displaystyle i G \\alpha_{s} q_{cs} + i G \\alpha_{s} q_{ds} - i \\tilde{\\Delta} \\alpha_{s} + \\frac{\\alpha_{s} \\gamma_{o}}{2} - \\eta_{l}= 0$"
      ],
      "text/plain": [
       "<IPython.core.display.Math object>"
      ]
     },
     "metadata": {},
     "output_type": "display_data"
    },
    {
     "data": {
      "text/latex": [
       "$\\displaystyle G \\omega_c^\\prime \\alpha_{s} \\overline{\\alpha_{s}} + \\Omega_{c}^{2} q_{cs} + \\mathcal{A} q_{ds}= 0$"
      ],
      "text/plain": [
       "<IPython.core.display.Math object>"
      ]
     },
     "metadata": {},
     "output_type": "display_data"
    },
    {
     "data": {
      "text/latex": [
       "$\\displaystyle G \\omega_d^\\prime \\alpha_{s} \\overline{\\alpha_{s}} + \\Omega_{d}^{2} q_{ds} - \\mathcal{A} q_{cs}= 0$"
      ],
      "text/plain": [
       "<IPython.core.display.Math object>"
      ]
     },
     "metadata": {},
     "output_type": "display_data"
    }
   ],
   "source": [
    "# expressions with coeff +\n",
    "list_coeff = exp(I * delta * t)\n",
    "eqtn_A_p = eqtn_alpha_s_t.coeff(list_coeff)\n",
    "eqtn_C_p = eqtn_q_cs_t.coeff(list_coeff)\n",
    "eqtn_D_p = eqtn_q_ds_t.coeff(list_coeff)\n",
    "\n",
    "# expressions with coeff -\n",
    "list_coeff = exp(- I * delta * t)\n",
    "eqtn_A_m = eqtn_alpha_s_t.coeff(list_coeff)\n",
    "eqtn_C_m = eqtn_q_cs_t.coeff(list_coeff)\n",
    "eqtn_D_m = eqtn_q_ds_t.coeff(list_coeff)\n",
    "\n",
    "# expressions with coeff 0\n",
    "list_subs = [(eqtn_A_p, 0), (eqtn_C_p, 0), (eqtn_D_p, 0), (eqtn_A_m, 0), (eqtn_C_m, 0), (eqtn_D_m, 0)]\n",
    "eqtn_alpha_s = eqtn_alpha_s_t.subs(list_subs)\n",
    "eqtn_q_cs = eqtn_q_cs_t.subs(list_subs)\n",
    "eqtn_q_ds = eqtn_q_ds_t.subs(list_subs)\n",
    "\n",
    "# remove Math function to display LaTeX script\n",
    "display(Math(latex(eqtn_A_p) + '= 0'))\n",
    "display(Math(latex(eqtn_C_p) + '= 0'))\n",
    "display(Math(latex(eqtn_D_p) + '= 0'))\n",
    "display(Math(latex(eqtn_A_m) + '= 0'))\n",
    "display(Math(latex(eqtn_C_m) + '= 0'))\n",
    "display(Math(latex(eqtn_D_m) + '= 0'))\n",
    "display(Math(latex(eqtn_alpha_s) + '= 0'))\n",
    "display(Math(latex(eqtn_q_cs) + '= 0'))\n",
    "display(Math(latex(eqtn_q_ds) + '= 0'))"
   ]
  },
  {
   "cell_type": "code",
   "execution_count": 8,
   "metadata": {},
   "outputs": [
    {
     "data": {
      "text/latex": [
       "$\\displaystyle \\alpha_{s}=- \\frac{2 \\eta_{l}}{2 i \\Delta - \\gamma_{o}}$"
      ],
      "text/plain": [
       "<IPython.core.display.Math object>"
      ]
     },
     "metadata": {},
     "output_type": "display_data"
    },
    {
     "data": {
      "text/latex": [
       "$\\displaystyle q_{cs}=\\frac{G \\alpha_{s} \\left(- \\Omega_{d}^{2} \\omega_c^\\prime + \\mathcal{A} \\omega_d^\\prime\\right) \\overline{\\alpha_{s}}}{\\Omega_{c}^{2} \\Omega_{d}^{2} + \\mathcal{A}^{2}}$"
      ],
      "text/plain": [
       "<IPython.core.display.Math object>"
      ]
     },
     "metadata": {},
     "output_type": "display_data"
    },
    {
     "data": {
      "text/latex": [
       "$\\displaystyle q_{ds}=- \\frac{G \\alpha_{s} \\left(\\Omega_{c}^{2} \\omega_d^\\prime + \\mathcal{A} \\omega_c^\\prime\\right) \\overline{\\alpha_{s}}}{\\Omega_{c}^{2} \\Omega_{d}^{2} + \\mathcal{A}^{2}}$"
      ],
      "text/plain": [
       "<IPython.core.display.Math object>"
      ]
     },
     "metadata": {},
     "output_type": "display_data"
    }
   ],
   "source": [
    "# solve for zeroth order terms\n",
    "sols = solve([eqtn_q_cs, eqtn_q_ds], [q_cs, q_ds])\n",
    "expr_q_cs = sols[q_cs]\n",
    "expr_q_ds = sols[q_ds]\n",
    "expr_alpha_s = solve([eqtn_alpha_s], [alpha_s])[alpha_s]\n",
    "\n",
    "# effective detuning\n",
    "Delta = symbols('Delta', real=True)\n",
    "expr_Delta_t = G * q_cs + G * q_ds + Delta\n",
    "expr_alpha_s = expr_alpha_s.collect(I).subs(Delta_t, expr_Delta_t).simplify()\n",
    "\n",
    "# remove Math function to display LaTeX script\n",
    "display(Math(latex(alpha_s) + '=' + latex(expr_alpha_s)))\n",
    "display(Math(latex(q_cs) + '=' + latex(expr_q_cs)))\n",
    "display(Math(latex(q_ds) + '=' + latex(expr_q_ds)))"
   ]
  },
  {
   "cell_type": "code",
   "execution_count": 9,
   "metadata": {},
   "outputs": [
    {
     "data": {
      "text/latex": [
       "$\\displaystyle C_{+}=\\frac{G \\left(A_{+} \\overline{\\alpha_{s}} + \\alpha_{s} \\overline{A_{-}}\\right) \\left(\\mathcal{A} \\omega_d^\\prime - \\omega_c^\\prime \\left(\\Omega_{d}^{2} - \\delta^{2} + i \\delta \\gamma_{d}\\right)\\right)}{\\mathcal{A}^{2} + \\left(\\Omega_{c}^{2} - \\delta^{2} + i \\delta \\gamma_{c}\\right) \\left(\\Omega_{d}^{2} - \\delta^{2} + i \\delta \\gamma_{d}\\right)}$"
      ],
      "text/plain": [
       "<IPython.core.display.Math object>"
      ]
     },
     "metadata": {},
     "output_type": "display_data"
    },
    {
     "data": {
      "text/latex": [
       "$\\displaystyle D_{+}=- \\frac{G \\left(A_{+} \\overline{\\alpha_{s}} + \\alpha_{s} \\overline{A_{-}}\\right) \\left(\\mathcal{A} \\omega_c^\\prime + \\omega_d^\\prime \\left(\\Omega_{c}^{2} - \\delta^{2} + i \\delta \\gamma_{c}\\right)\\right)}{\\mathcal{A}^{2} + \\left(\\Omega_{c}^{2} - \\delta^{2} + i \\delta \\gamma_{c}\\right) \\left(\\Omega_{d}^{2} - \\delta^{2} + i \\delta \\gamma_{d}\\right)}$"
      ],
      "text/plain": [
       "<IPython.core.display.Math object>"
      ]
     },
     "metadata": {},
     "output_type": "display_data"
    }
   ],
   "source": [
    "# solve for first order terms with subscript +\n",
    "sols = solve([eqtn_C_p, eqtn_D_p], [C_p, D_p])\n",
    "expr_C_p = sols[C_p]\n",
    "expr_D_p = sols[D_p]\n",
    "\n",
    "# remove Math function to display LaTeX script\n",
    "display(Math(latex(C_p) + '=' + latex(expr_C_p)))\n",
    "display(Math(latex(D_p) + '=' + latex(expr_D_p)))"
   ]
  },
  {
   "cell_type": "code",
   "execution_count": 10,
   "metadata": {},
   "outputs": [
    {
     "data": {
      "text/latex": [
       "$\\displaystyle C_{-}=\\frac{G \\left(A_{-} \\overline{\\alpha_{s}} + \\alpha_{s} \\overline{A_{+}}\\right) \\left(\\mathcal{A} \\omega_d^\\prime + \\omega_c^\\prime \\left(- \\Omega_{d}^{2} + \\delta^{2} + i \\delta \\gamma_{d}\\right)\\right)}{\\mathcal{A}^{2} + \\left(- \\Omega_{c}^{2} + \\delta^{2} + i \\delta \\gamma_{c}\\right) \\left(- \\Omega_{d}^{2} + \\delta^{2} + i \\delta \\gamma_{d}\\right)}$"
      ],
      "text/plain": [
       "<IPython.core.display.Math object>"
      ]
     },
     "metadata": {},
     "output_type": "display_data"
    },
    {
     "data": {
      "text/latex": [
       "$\\displaystyle D_{-}=\\frac{G \\left(A_{-} \\overline{\\alpha_{s}} + \\alpha_{s} \\overline{A_{+}}\\right) \\left(- \\mathcal{A} \\omega_c^\\prime + \\omega_d^\\prime \\left(- \\Omega_{c}^{2} + \\delta^{2} + i \\delta \\gamma_{c}\\right)\\right)}{\\mathcal{A}^{2} + \\left(- \\Omega_{c}^{2} + \\delta^{2} + i \\delta \\gamma_{c}\\right) \\left(- \\Omega_{d}^{2} + \\delta^{2} + i \\delta \\gamma_{d}\\right)}$"
      ],
      "text/plain": [
       "<IPython.core.display.Math object>"
      ]
     },
     "metadata": {},
     "output_type": "display_data"
    }
   ],
   "source": [
    "# solve for first order terms with subscript -\n",
    "sols = solve([eqtn_C_m, eqtn_D_m], [C_m, D_m])\n",
    "expr_C_m = sols[C_m]\n",
    "expr_D_m = sols[D_m]\n",
    "\n",
    "# remove Math function to display LaTeX script\n",
    "display(Math(latex(C_m) + '=' + latex(expr_C_m)))\n",
    "display(Math(latex(D_m) + '=' + latex(expr_D_m)))"
   ]
  },
  {
   "cell_type": "code",
   "execution_count": 11,
   "metadata": {},
   "outputs": [
    {
     "data": {
      "text/latex": [
       "$\\displaystyle A_{-}=\\frac{2 \\left(i G^{2} \\alpha_{s} \\left(A_{-} \\overline{\\alpha_{s}} + \\alpha_{s} \\overline{A_{+}}\\right) \\left(\\mathcal{A} \\omega_c^\\prime - \\mathcal{A} \\omega_d^\\prime - \\omega_c^\\prime \\left(- \\Omega_{d}^{2} + \\delta^{2} + i \\delta \\gamma_{d}\\right) - \\omega_d^\\prime \\left(- \\Omega_{c}^{2} + \\delta^{2} + i \\delta \\gamma_{c}\\right)\\right) + \\eta_{p} \\left(\\mathcal{A}^{2} + \\left(- \\Omega_{c}^{2} + \\delta^{2} + i \\delta \\gamma_{c}\\right) \\left(- \\Omega_{d}^{2} + \\delta^{2} + i \\delta \\gamma_{d}\\right)\\right)\\right)}{\\left(\\mathcal{A}^{2} + \\left(- \\Omega_{c}^{2} + \\delta^{2} + i \\delta \\gamma_{c}\\right) \\left(- \\Omega_{d}^{2} + \\delta^{2} + i \\delta \\gamma_{d}\\right)\\right) \\left(\\gamma_{o} - 2 i \\left(\\Delta + \\delta\\right)\\right)}$"
      ],
      "text/plain": [
       "<IPython.core.display.Math object>"
      ]
     },
     "metadata": {},
     "output_type": "display_data"
    },
    {
     "data": {
      "text/latex": [
       "$\\displaystyle \\overline{A_{+}}=- \\frac{2 i G^{2} \\left(A_{-} \\overline{\\alpha_{s}} + \\alpha_{s} \\overline{A_{+}}\\right) \\left(\\mathcal{A} \\omega_c^\\prime - \\mathcal{A} \\omega_d^\\prime + \\omega_c^\\prime \\left(\\Omega_{d}^{2} - \\delta^{2} - i \\delta \\gamma_{d}\\right) + \\omega_d^\\prime \\left(\\Omega_{c}^{2} - \\delta^{2} - i \\delta \\gamma_{c}\\right)\\right) \\overline{\\alpha_{s}}}{\\left(\\mathcal{A}^{2} + \\left(\\Omega_{c}^{2} - \\delta^{2} - i \\delta \\gamma_{c}\\right) \\left(\\Omega_{d}^{2} - \\delta^{2} - i \\delta \\gamma_{d}\\right)\\right) \\left(\\gamma_{o} + 2 i \\left(\\Delta - \\delta\\right)\\right)}$"
      ],
      "text/plain": [
       "<IPython.core.display.Math object>"
      ]
     },
     "metadata": {},
     "output_type": "display_data"
    }
   ],
   "source": [
    "# solve for the cavity modes\n",
    "sols = solve([eqtn_A_p, eqtn_A_m], [A_p, A_m])\n",
    "expr_A_p = sols[A_p]\n",
    "expr_A_m = sols[A_m]\n",
    "\n",
    "# substitute dependencies\n",
    "list_subs = [(Delta_t, expr_Delta_t), (C_p, expr_C_p), (C_m, expr_C_m), (D_p, expr_D_p), (D_m, expr_D_m)]\n",
    "expr_A_p = expr_A_p.collect(I).subs(list_subs).simplify()\n",
    "expr_A_m = expr_A_m.collect(I).subs(list_subs).simplify()\n",
    "\n",
    "# remove Math function to display LaTeX script\n",
    "display(Math(latex(A_m) + '=' + latex(expr_A_m)))\n",
    "display(Math(latex(conjugate(A_p)) + '=' + latex(conjugate(expr_A_p))))"
   ]
  },
  {
   "cell_type": "code",
   "execution_count": 12,
   "metadata": {},
   "outputs": [
    {
     "data": {
      "text/latex": [
       "$\\displaystyle A_{-}=\\frac{i G^{2} \\alpha_{s} \\left(A_{-} \\overline{\\alpha_{s}} + \\alpha_{s} \\overline{A_{+}}\\right) \\left(\\chi_c^\\prime \\chi_d^\\prime \\mathcal{A} \\left(\\omega_c^\\prime - \\omega_d^\\prime\\right) + \\chi_c^\\prime \\omega_c^\\prime + \\chi_d^\\prime \\omega_d^\\prime\\right) + \\eta_{p} \\left(\\chi_c^\\prime \\chi_d^\\prime \\mathcal{A}^{2} + 1\\right)}{\\Gamma_{m} \\left(\\chi_c^\\prime \\chi_d^\\prime \\mathcal{A}^{2} + 1\\right)}$"
      ],
      "text/plain": [
       "<IPython.core.display.Math object>"
      ]
     },
     "metadata": {},
     "output_type": "display_data"
    },
    {
     "data": {
      "text/latex": [
       "$\\displaystyle \\overline{A_{+}}=- \\frac{i G^{2} \\left(A_{-} \\overline{\\alpha_{s}} + \\alpha_{s} \\overline{A_{+}}\\right) \\left(\\chi_c^\\prime \\chi_d^\\prime \\mathcal{A} \\left(\\omega_c^\\prime - \\omega_d^\\prime\\right) + \\chi_c^\\prime \\omega_c^\\prime + \\chi_d^\\prime \\omega_d^\\prime\\right) \\overline{\\alpha_{s}}}{\\Gamma_{p} \\left(\\chi_c^\\prime \\chi_d^\\prime \\mathcal{A}^{2} + 1\\right)}$"
      ],
      "text/plain": [
       "<IPython.core.display.Math object>"
      ]
     },
     "metadata": {},
     "output_type": "display_data"
    }
   ],
   "source": [
    "# temporary variables\n",
    "chi_c_p, chi_d_p, Gamma_p, Gamma_m = symbols('\\\\chi_c^\\\\prime, \\\\chi_d^\\\\prime, Gamma_p, Gamma_m', complex=True)\n",
    "\n",
    "# substitutions\n",
    "expr_Gamma_m = gamma_o / 2 - I * (Delta + delta)\n",
    "expr_Gamma_p = gamma_o / 2 + I * (Delta - delta)\n",
    "expr_chi_c_p_inv = Omega_c**2 - delta**2 - I * delta * gamma_c\n",
    "expr_chi_d_p_inv = Omega_d**2 - delta**2 - I * delta * gamma_d\n",
    "\n",
    "# substitute\n",
    "list_subs = [(2 * expr_Gamma_m, 2 * Gamma_m), (2 * expr_Gamma_p, 2 * Gamma_p), (expr_chi_c_p_inv, 1 / chi_c_p), (expr_chi_d_p_inv, 1 / chi_d_p)]\n",
    "expr_A_m_cond = expr_A_m.subs(list_subs).simplify()\n",
    "expr_A_p_conj_cond = conjugate(expr_A_p).subs(list_subs).simplify()\n",
    "\n",
    "# remove Math function to display LaTeX script\n",
    "display(Math(latex(A_m) + '=' + latex(expr_A_m_cond)))\n",
    "display(Math(latex(conjugate(A_p)) + '=' + latex(expr_A_p_conj_cond)))"
   ]
  },
  {
   "cell_type": "code",
   "execution_count": 13,
   "metadata": {},
   "outputs": [
    {
     "data": {
      "text/latex": [
       "$\\displaystyle - A_{-} \\Gamma_{m} + i G^{2} \\Lambda \\alpha_{s} \\left(A_{-} \\overline{\\alpha_{s}} + \\alpha_{s} \\overline{A_{+}}\\right) + \\eta_{p}= 0$"
      ],
      "text/plain": [
       "<IPython.core.display.Math object>"
      ]
     },
     "metadata": {},
     "output_type": "display_data"
    },
    {
     "data": {
      "text/latex": [
       "$\\displaystyle - i G^{2} \\Lambda \\left(A_{-} \\overline{\\alpha_{s}} + \\alpha_{s} \\overline{A_{+}}\\right) \\overline{\\alpha_{s}} - \\Gamma_{p} \\overline{A_{+}}= 0$"
      ],
      "text/plain": [
       "<IPython.core.display.Math object>"
      ]
     },
     "metadata": {},
     "output_type": "display_data"
    }
   ],
   "source": [
    "# temporary variables\n",
    "Lambda = symbols('Lambda', real=True)\n",
    "\n",
    "# substitutions\n",
    "expr_Lambda = (A * chi_c_p * chi_d_p * (omega_c_p - omega_d_p) + chi_c_p * omega_c_p + chi_d_p * omega_d_p) / (A**2 * chi_c_p * chi_d_p + 1)\n",
    "\n",
    "# substitute\n",
    "list_subs = [(expr_Lambda * (A**2 * chi_c_p * chi_d_p + 1), Lambda * (A**2 * chi_c_p * chi_d_p + 1))]\n",
    "expr_A_m_cond = expr_A_m_cond.subs(list_subs).simplify()\n",
    "expr_A_p_conj_cond = expr_A_p_conj_cond.subs(list_subs).simplify()\n",
    "\n",
    "# equations\n",
    "num, den = fraction(expr_A_m_cond)\n",
    "eqtn_1 = (num - A_m * den)\n",
    "num, den = fraction(expr_A_p_conj_cond)\n",
    "eqtn_2 = num - conjugate(A_p) * den\n",
    "\n",
    "# remove Math function to display LaTeX script\n",
    "display(Math(latex(eqtn_1) + '= 0'))\n",
    "display(Math(latex(eqtn_2) + '= 0'))"
   ]
  },
  {
   "cell_type": "code",
   "execution_count": 14,
   "metadata": {},
   "outputs": [
    {
     "data": {
      "text/latex": [
       "$\\displaystyle A_{-}=\\frac{\\eta_{p} \\left(i G^{2} \\Lambda \\alpha_{s} \\overline{\\alpha_{s}} + \\Gamma_{p}\\right)}{2 \\Delta G^{2} \\Lambda \\alpha_{s} \\overline{\\alpha_{s}} + \\Gamma_{m} \\Gamma_{p}}$"
      ],
      "text/plain": [
       "<IPython.core.display.Math object>"
      ]
     },
     "metadata": {},
     "output_type": "display_data"
    },
    {
     "data": {
      "text/latex": [
       "$\\displaystyle A_{+}=\\frac{i G^{2} \\Lambda \\alpha_{s}^{2} \\eta_{p}}{2 \\Delta G^{2} \\Lambda \\alpha_{s} \\overline{\\alpha_{s}} + \\overline{\\Gamma_{m}} \\overline{\\Gamma_{p}}}$"
      ],
      "text/plain": [
       "<IPython.core.display.Math object>"
      ]
     },
     "metadata": {},
     "output_type": "display_data"
    }
   ],
   "source": [
    "# solve final equation for plus\n",
    "expr_temp = solve([eqtn_2.expand()], [conjugate(A_p)])[conjugate(A_p)]\n",
    "eqtn_A_m_final = eqtn_1.subs(conjugate(A_p), expr_temp)\n",
    "expr_A_m_final = solve([eqtn_A_m_final.expand()], [A_m])[A_m]\n",
    "\n",
    "# obtain final equation for minus\n",
    "expr_A_p_final = conjugate(expr_temp).subs(A_m, expr_A_m_final).simplify()\n",
    "\n",
    "# simplify\n",
    "list_coll = [I * G**2 * Lambda * conjugate(alpha_s) * alpha_s]\n",
    "list_subs = [(Gamma_m - Gamma_p, expr_Gamma_m - expr_Gamma_p), (conjugate(Gamma_p) - conjugate(Gamma_m), conjugate(expr_Gamma_p - expr_Gamma_m))]\n",
    "expr_A_m_final = expr_A_m_final.collect(list_coll).subs(list_subs).simplify()\n",
    "expr_A_p_final = expr_A_p_final.collect(list_coll).subs(list_subs).simplify()\n",
    "\n",
    "# remove Math function to display LaTeX script\n",
    "display(Math(latex(A_m) + '=' + latex(expr_A_m_final)))\n",
    "display(Math(latex(A_p) + '=' + latex(expr_A_p_final)))"
   ]
  },
  {
   "cell_type": "markdown",
   "metadata": {},
   "source": [
    "## Output Stokes and Anti-Stokes Amplitudes"
   ]
  },
  {
   "cell_type": "code",
   "execution_count": 15,
   "metadata": {},
   "outputs": [
    {
     "data": {
      "text/latex": [
       "$\\displaystyle \\alpha_{out}=- A_{+} \\sqrt{\\gamma_{o}} \\sqrt{\\mu} e^{i \\delta t} - \\alpha_{s} \\sqrt{\\gamma_{o}} \\sqrt{\\mu} + \\frac{\\eta_{l}}{\\sqrt{\\gamma_{o}} \\sqrt{\\mu}} + \\left(- A_{-} \\sqrt{\\gamma_{o}} \\sqrt{\\mu} + \\frac{\\eta_{p}}{\\sqrt{\\gamma_{o}} \\sqrt{\\mu}}\\right) e^{- i \\delta t}$"
      ],
      "text/plain": [
       "<IPython.core.display.Math object>"
      ]
     },
     "metadata": {},
     "output_type": "display_data"
    }
   ],
   "source": [
    "# output variables\n",
    "alpha_out = symbols('\\\\alpha_{out}', complex=True)\n",
    "\n",
    "# expression\n",
    "expr_alpha_out = eta_l / sqrt(mu * gamma_o) + eta_p * exp(- I * delta * t) / sqrt(mu * gamma_o) - sqrt(mu * gamma_o) * expr_alpha_t\n",
    "\n",
    "# coefficients\n",
    "list_coll = [exp(I * delta * t)]\n",
    "expr_alpha_out = expr_alpha_out.expand().collect(list_coll)\n",
    "\n",
    "# remove Math function to display LaTeX script\n",
    "display(Math(latex(alpha_out) + '=' + latex(expr_alpha_out)))"
   ]
  },
  {
   "cell_type": "code",
   "execution_count": 16,
   "metadata": {},
   "outputs": [
    {
     "data": {
      "text/latex": [
       "$\\displaystyle \\alpha_{out}=\\eta_{p} s_{as} e^{i \\delta t} + \\eta_{p} s_{s} e^{- i \\delta t} + s_{0}$"
      ],
      "text/plain": [
       "<IPython.core.display.Math object>"
      ]
     },
     "metadata": {},
     "output_type": "display_data"
    },
    {
     "data": {
      "text/latex": [
       "$\\displaystyle s_{0}=\\frac{2 \\eta_{l} \\sqrt{\\gamma_{o}} \\sqrt{\\mu}}{2 i \\Delta - \\gamma_{o}} + \\frac{\\eta_{l}}{\\sqrt{\\gamma_{o}} \\sqrt{\\mu}}$"
      ],
      "text/plain": [
       "<IPython.core.display.Math object>"
      ]
     },
     "metadata": {},
     "output_type": "display_data"
    },
    {
     "data": {
      "text/latex": [
       "$\\displaystyle s_{s}=- \\frac{i G^{2} \\Lambda \\alpha_{s} \\gamma_{o} \\mu \\overline{\\alpha_{s}}}{2 \\Delta G^{2} \\Lambda \\alpha_{s} \\overline{\\alpha_{s}} + \\Gamma_{m} \\Gamma_{p}} - \\frac{\\Gamma_{p} \\gamma_{o} \\mu}{2 \\Delta G^{2} \\Lambda \\alpha_{s} \\overline{\\alpha_{s}} + \\Gamma_{m} \\Gamma_{p}} + 1$"
      ],
      "text/plain": [
       "<IPython.core.display.Math object>"
      ]
     },
     "metadata": {},
     "output_type": "display_data"
    },
    {
     "data": {
      "text/latex": [
       "$\\displaystyle s_{as}=- \\frac{i G^{2} \\Lambda \\alpha_{s}^{2} \\gamma_{o} \\mu}{2 \\Delta G^{2} \\Lambda \\alpha_{s} \\overline{\\alpha_{s}} + \\overline{\\Gamma_{m}} \\overline{\\Gamma_{p}}}$"
      ],
      "text/plain": [
       "<IPython.core.display.Math object>"
      ]
     },
     "metadata": {},
     "output_type": "display_data"
    }
   ],
   "source": [
    "# amplitudes\n",
    "s_0, s_s, s_as = symbols('s_0, s_{s}, s_{as}', complex=True)\n",
    "\n",
    "# expressions\n",
    "expr_s_s = expr_alpha_out.coeff(exp(- I * delta * t)) / eta_p * sqrt(mu * gamma_o)\n",
    "expr_s_as = expr_alpha_out.coeff(exp(I * delta * t)) / eta_p * sqrt(mu * gamma_o)\n",
    "expr_s_0 = expr_alpha_out - eta_p / sqrt(mu * gamma_o) * (exp(- I * delta * t) * expr_s_s + exp(I * delta * t) * expr_s_as)\n",
    "\n",
    "# substitutions\n",
    "list_subs = [(alpha_s, expr_alpha_s), (A_p, expr_A_p_final), (A_m, expr_A_m_final)]\n",
    "expr_s_0 = expr_s_0.subs(list_subs).expand()\n",
    "expr_s_s = expr_s_s.subs(list_subs).expand()\n",
    "expr_s_as = expr_s_as.subs(list_subs).expand()\n",
    "\n",
    "# remove Math function to display LaTeX script\n",
    "display(Math(latex(alpha_out) + '=' + latex(s_0 + eta_p * exp(- I * delta * t) * s_s + eta_p * exp(I * delta * t) * s_as)))\n",
    "display(Math(latex(s_0) + '=' + latex(expr_s_0)))\n",
    "display(Math(latex(s_s) + '=' + latex(expr_s_s)))\n",
    "display(Math(latex(s_as) + '=' + latex(expr_s_as)))"
   ]
  }
 ],
 "metadata": {
  "kernelspec": {
   "display_name": "Python 3.7.6 64-bit ('base': conda)",
   "language": "python",
   "name": "python37664bitbasecondab2019f08627a42e98f52679f186c74d3"
  },
  "language_info": {
   "codemirror_mode": {
    "name": "ipython",
    "version": 3
   },
   "file_extension": ".py",
   "mimetype": "text/x-python",
   "name": "python",
   "nbconvert_exporter": "python",
   "pygments_lexer": "ipython3",
   "version": "3.8.3-final"
  }
 },
 "nbformat": 4,
 "nbformat_minor": 2
}
