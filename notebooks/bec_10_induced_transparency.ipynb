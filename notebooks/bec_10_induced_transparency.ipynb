{
 "cells": [
  {
   "cell_type": "markdown",
   "metadata": {},
   "source": [
    "# Calculation of Optomechanically-induced Transparency for a BEC-OM Model with a weak probe laser and a strong control laser containing OAM (BEC_10)"
   ]
  },
  {
   "cell_type": "markdown",
   "metadata": {},
   "source": [
    "## Initialization"
   ]
  },
  {
   "cell_type": "code",
   "execution_count": 1,
   "metadata": {},
   "outputs": [],
   "source": [
    "# dependencies\n",
    "from IPython.display import display, Math\n",
    "from sympy import *\n",
    "from sympy.physics.quantum import Commutator, Dagger, Operator\n",
    "from sympy.physics.quantum.constants import hbar\n",
    "\n",
    "init_printing(use_latex=True)"
   ]
  },
  {
   "cell_type": "code",
   "execution_count": 2,
   "metadata": {},
   "outputs": [],
   "source": [
    "# system parameters\n",
    "omega_o, omega_l, omega_p, omega_c_p, omega_d_p, Omega_c, Omega_d, gamma_o, gamma_c, gamma_d, mu, N_b, A, t = symbols('omega_o, omega_l, omega_p, \\\\omega_c^\\\\prime, \\\\omega_d^\\\\prime, Omega_c, Omega_d, gamma_o, gamma_c, gamma_d, mu, N_b, \\\\mathcal{A}, t', real=True, positive=True)\n",
    "delta, Delta_t, G = symbols('delta, \\\\tilde{\\\\Delta}, G', real=True)\n",
    "eta_l, eta_p = symbols('eta_l, eta_p', real=True)\n",
    "\n",
    "# modes\n",
    "a_t = Function('\\\\hat{a}', commutative=False)(t)\n",
    "X_c_t = Function('\\\\hat{X}_c', commutative=False)(t)\n",
    "Y_c_t = Function('\\\\hat{Y}_c', commutative=False)(t)\n",
    "X_d_t = Function('\\\\hat{X}_d', commutative=False)(t)\n",
    "Y_d_t = Function('\\\\hat{Y}_d', commutative=False)(t)\n",
    "\n",
    "# noise operators\n",
    "a_in_t = Function('\\\\hat{a}_{in}', commutative=False)(t)\n",
    "epsilon_c_t = Function('\\\\hat{\\\\epsilon}_c', commutative=False)(t)\n",
    "epsilon_d_t = Function('\\\\hat{\\\\epsilon}_d', commutative=False)(t)"
   ]
  },
  {
   "cell_type": "code",
   "execution_count": 3,
   "metadata": {},
   "outputs": [
    {
     "data": {
      "text/latex": [
       "$\\displaystyle - \\eta_{l} - \\eta_{p} e^{- i \\delta t} - \\sqrt{\\gamma_{o}} \\sqrt{\\mu} \\hat{a}_{in}{\\left(t \\right)} + \\frac{\\gamma_{o} \\hat{a}{\\left(t \\right)}}{2} - i \\left(- G \\left(\\hat{X}_c{\\left(t \\right)} + \\hat{X}_d{\\left(t \\right)}\\right) + \\tilde{\\Delta}\\right) \\hat{a}{\\left(t \\right)} + \\frac{d}{d t} \\hat{a}{\\left(t \\right)} = 0$"
      ],
      "text/plain": [
       "<IPython.core.display.Math object>"
      ]
     },
     "metadata": {},
     "output_type": "display_data"
    },
    {
     "data": {
      "text/latex": [
       "$\\displaystyle G \\omega_c^\\prime \\hat{a}{\\left(t \\right)}^{\\dagger} \\hat{a}{\\left(t \\right)} + \\Omega_{c}^{2} \\hat{X}_c{\\left(t \\right)} + \\mathcal{A} \\hat{X}_d{\\left(t \\right)} - \\omega_c^\\prime \\hat{\\epsilon}_c{\\left(t \\right)} + \\gamma_{c} \\frac{d}{d t} \\hat{X}_c{\\left(t \\right)} + \\frac{d^{2}}{d t^{2}} \\hat{X}_c{\\left(t \\right)} = 0$"
      ],
      "text/plain": [
       "<IPython.core.display.Math object>"
      ]
     },
     "metadata": {},
     "output_type": "display_data"
    },
    {
     "data": {
      "text/latex": [
       "$\\displaystyle G \\omega_d^\\prime \\hat{a}{\\left(t \\right)}^{\\dagger} \\hat{a}{\\left(t \\right)} + \\Omega_{d}^{2} \\hat{X}_d{\\left(t \\right)} - \\mathcal{A} \\hat{X}_c{\\left(t \\right)} - \\omega_d^\\prime \\hat{\\epsilon}_d{\\left(t \\right)} + \\gamma_{d} \\frac{d}{d t} \\hat{X}_d{\\left(t \\right)} + \\frac{d^{2}}{d t^{2}} \\hat{X}_d{\\left(t \\right)} = 0$"
      ],
      "text/plain": [
       "<IPython.core.display.Math object>"
      ]
     },
     "metadata": {},
     "output_type": "display_data"
    }
   ],
   "source": [
    "# rate equations\n",
    "expr_a_t = Derivative(a_t) - I * (Delta_t - G * (X_c_t + X_d_t)) * a_t + gamma_o / 2 * a_t - eta_l - eta_p * exp(-I * delta * t) - sqrt(mu * gamma_o) * a_in_t\n",
    "expr_X_c_t = Derivative(Derivative(X_c_t)) + gamma_c * Derivative(X_c_t) + Omega_c**2 * X_c_t + omega_c_p * G * Dagger(a_t) * a_t + A * X_d_t - omega_c_p * epsilon_c_t\n",
    "expr_X_d_t = Derivative(Derivative(X_d_t)) + gamma_d * Derivative(X_d_t) + Omega_d**2 * X_d_t + omega_d_p * G * Dagger(a_t) * a_t - A * X_c_t - omega_d_p * epsilon_d_t\n",
    "\n",
    "# remove Math function to display LaTeX script\n",
    "display(Math(latex(expr_a_t) + ' = 0'))\n",
    "display(Math(latex(expr_X_c_t) + ' = 0'))\n",
    "display(Math(latex(expr_X_d_t) + ' = 0'))"
   ]
  },
  {
   "cell_type": "markdown",
   "metadata": {},
   "source": [
    "## Classical Equations"
   ]
  },
  {
   "cell_type": "code",
   "execution_count": 4,
   "metadata": {},
   "outputs": [
    {
     "data": {
      "text/latex": [
       "$\\displaystyle - \\eta_{l} - \\eta_{p} e^{- i \\delta t} + \\frac{\\gamma_{o} \\alpha{\\left(t \\right)}}{2} - i \\left(- G \\left(\\operatorname{q_{c}}{\\left(t \\right)} + \\operatorname{q_{d}}{\\left(t \\right)}\\right) + \\tilde{\\Delta}\\right) \\alpha{\\left(t \\right)} + \\frac{d}{d t} \\alpha{\\left(t \\right)} = 0$"
      ],
      "text/plain": [
       "<IPython.core.display.Math object>"
      ]
     },
     "metadata": {},
     "output_type": "display_data"
    },
    {
     "data": {
      "text/latex": [
       "$\\displaystyle G \\omega_c^\\prime \\alpha{\\left(t \\right)} \\overline{\\alpha{\\left(t \\right)}} + \\Omega_{c}^{2} \\operatorname{q_{c}}{\\left(t \\right)} + \\mathcal{A} \\operatorname{q_{d}}{\\left(t \\right)} + \\gamma_{c} \\frac{d}{d t} \\operatorname{q_{c}}{\\left(t \\right)} + \\frac{d^{2}}{d t^{2}} \\operatorname{q_{c}}{\\left(t \\right)} = 0$"
      ],
      "text/plain": [
       "<IPython.core.display.Math object>"
      ]
     },
     "metadata": {},
     "output_type": "display_data"
    },
    {
     "data": {
      "text/latex": [
       "$\\displaystyle G \\omega_d^\\prime \\alpha{\\left(t \\right)} \\overline{\\alpha{\\left(t \\right)}} + \\Omega_{d}^{2} \\operatorname{q_{d}}{\\left(t \\right)} - \\mathcal{A} \\operatorname{q_{c}}{\\left(t \\right)} + \\gamma_{d} \\frac{d}{d t} \\operatorname{q_{d}}{\\left(t \\right)} + \\frac{d^{2}}{d t^{2}} \\operatorname{q_{d}}{\\left(t \\right)} = 0$"
      ],
      "text/plain": [
       "<IPython.core.display.Math object>"
      ]
     },
     "metadata": {},
     "output_type": "display_data"
    }
   ],
   "source": [
    "# classical parameters\n",
    "alpha, alpha_s = symbols('alpha, alpha_s', complex=True)\n",
    "q_c, q_d, q_cs, q_ds = symbols('q_c, q_d, q_cs, q_ds', real=True)\n",
    "\n",
    "# classical modes\n",
    "alpha_t = Function('\\\\alpha', complex=True)(t)\n",
    "q_c_t = Function('q_c', complex=True)(t)\n",
    "q_d_t = Function('q_d', complex=True)(t)\n",
    "\n",
    "# expressions for mean values\n",
    "list_subs = [(a_t, alpha_t), (X_c_t, q_c_t), (X_d_t, q_d_t), (a_in_t, 0), (epsilon_c_t, 0), (epsilon_d_t, 0)]\n",
    "expr_alpha_t = expr_a_t.subs(list_subs).doit()\n",
    "expr_q_c_t = expr_X_c_t.subs(list_subs).doit()\n",
    "expr_q_d_t = expr_X_d_t.subs(list_subs).doit()\n",
    "\n",
    "# remove Math function to display LaTeX script\n",
    "display(Math(latex(expr_alpha_t) + ' = 0'))\n",
    "display(Math(latex(expr_q_c_t) + ' = 0'))\n",
    "display(Math(latex(expr_q_d_t) + ' = 0'))"
   ]
  },
  {
   "cell_type": "code",
   "execution_count": 5,
   "metadata": {},
   "outputs": [
    {
     "data": {
      "text/latex": [
       "$\\displaystyle \\tilde{\\Delta} = \\Delta + G \\left(- \\frac{G \\alpha_{s} \\left(\\Omega_{c}^{2} \\omega_d^\\prime + \\mathcal{A} \\omega_c^\\prime\\right) \\overline{\\alpha_{s}}}{\\Omega_{c}^{2} \\Omega_{d}^{2} + \\mathcal{A}^{2}} + \\frac{G \\alpha_{s} \\left(- \\Omega_{d}^{2} \\omega_c^\\prime + \\mathcal{A} \\omega_d^\\prime\\right) \\overline{\\alpha_{s}}}{\\Omega_{c}^{2} \\Omega_{d}^{2} + \\mathcal{A}^{2}}\\right)$"
      ],
      "text/plain": [
       "<IPython.core.display.Math object>"
      ]
     },
     "metadata": {},
     "output_type": "display_data"
    },
    {
     "data": {
      "text/latex": [
       "$\\displaystyle \\alpha_s = \\frac{2 \\eta_{l}}{2 i G q_{c} + 2 i G q_{d} - 2 i \\tilde{\\Delta} + \\gamma_{o}}$"
      ],
      "text/plain": [
       "<IPython.core.display.Math object>"
      ]
     },
     "metadata": {},
     "output_type": "display_data"
    },
    {
     "data": {
      "text/latex": [
       "$\\displaystyle q_{cs} = \\frac{G \\alpha_{s} \\left(- \\Omega_{d}^{2} \\omega_c^\\prime + \\mathcal{A} \\omega_d^\\prime\\right) \\overline{\\alpha_{s}}}{\\Omega_{c}^{2} \\Omega_{d}^{2} + \\mathcal{A}^{2}}$"
      ],
      "text/plain": [
       "<IPython.core.display.Math object>"
      ]
     },
     "metadata": {},
     "output_type": "display_data"
    },
    {
     "data": {
      "text/latex": [
       "$\\displaystyle q_{ds} = - \\frac{G \\alpha_{s} \\left(\\Omega_{c}^{2} \\omega_d^\\prime + \\mathcal{A} \\omega_c^\\prime\\right) \\overline{\\alpha_{s}}}{\\Omega_{c}^{2} \\Omega_{d}^{2} + \\mathcal{A}^{2}}$"
      ],
      "text/plain": [
       "<IPython.core.display.Math object>"
      ]
     },
     "metadata": {},
     "output_type": "display_data"
    }
   ],
   "source": [
    "# steady-state expressions\n",
    "list_subs = [(alpha_t, alpha), (q_c_t, q_c), (q_d_t, q_d), (eta_p, 0)]\n",
    "expr_alpha = expr_alpha_t.subs(list_subs).doit().expand()\n",
    "expr_q_c = expr_q_c_t.subs(list_subs).doit().expand()\n",
    "expr_q_d = expr_q_d_t.subs(list_subs).doit().expand()\n",
    "\n",
    "# steady-state solutions\n",
    "sols = solve([expr_q_c, expr_q_d], [q_c, q_d])\n",
    "expr_q_cs = sols[q_c].subs(alpha, alpha_s)\n",
    "expr_q_ds = sols[q_d].subs(alpha, alpha_s)\n",
    "sols = solve([expr_alpha], [alpha])\n",
    "\n",
    "# effective detuning\n",
    "Delta = symbols('Delta', real=True)\n",
    "expr_Delta_t = Delta + G * (expr_q_cs + expr_q_ds)\n",
    "sub_list = [(q_c, expr_q_cs), (q_d, expr_q_ds), (Delta_t, expr_Delta_t)]\n",
    "expr_alpha_s = sols[alpha].subs(list_subs).expand()\n",
    "\n",
    "# remove Math function to display LaTeX script\n",
    "display(Math('\\\\tilde{\\\\Delta} = ' + latex(expr_Delta_t)))\n",
    "display(Math('\\\\alpha_s = ' + latex(expr_alpha_s)))\n",
    "display(Math('q_{cs} = ' + latex(expr_q_cs)))\n",
    "display(Math('q_{ds} = ' + latex(expr_q_ds)))"
   ]
  },
  {
   "cell_type": "code",
   "execution_count": 6,
   "metadata": {},
   "outputs": [
    {
     "data": {
      "text/latex": [
       "$\\displaystyle - i \\Delta \\delta \\hat{\\alpha}{\\left(t \\right)} + i G \\alpha_{s} \\left(\\delta \\hat{q}_c{\\left(t \\right)} + \\delta \\hat{q}_d{\\left(t \\right)}\\right) - \\eta_{p} e^{- i \\delta t} + \\frac{\\gamma_{o} \\delta \\hat{\\alpha}{\\left(t \\right)}}{2} + \\frac{d}{d t} \\delta \\hat{\\alpha}{\\left(t \\right)} = 0$"
      ],
      "text/plain": [
       "<IPython.core.display.Math object>"
      ]
     },
     "metadata": {},
     "output_type": "display_data"
    },
    {
     "data": {
      "text/latex": [
       "$\\displaystyle G \\omega_c^\\prime \\left(\\alpha_{s} \\overline{\\delta \\hat{\\alpha}{\\left(t \\right)}} + \\delta \\hat{\\alpha}{\\left(t \\right)} \\overline{\\alpha_{s}}\\right) + \\Omega_{c}^{2} \\delta \\hat{q}_c{\\left(t \\right)} + \\mathcal{A} \\delta \\hat{q}_d{\\left(t \\right)} + \\gamma_{c} \\frac{d}{d t} \\delta \\hat{q}_c{\\left(t \\right)} + \\frac{d^{2}}{d t^{2}} \\delta \\hat{q}_c{\\left(t \\right)} = 0$"
      ],
      "text/plain": [
       "<IPython.core.display.Math object>"
      ]
     },
     "metadata": {},
     "output_type": "display_data"
    },
    {
     "data": {
      "text/latex": [
       "$\\displaystyle G \\omega_d^\\prime \\left(\\alpha_{s} \\overline{\\delta \\hat{\\alpha}{\\left(t \\right)}} + \\delta \\hat{\\alpha}{\\left(t \\right)} \\overline{\\alpha_{s}}\\right) + \\Omega_{d}^{2} \\delta \\hat{q}_d{\\left(t \\right)} - \\mathcal{A} \\delta \\hat{q}_c{\\left(t \\right)} + \\gamma_{d} \\frac{d}{d t} \\delta \\hat{q}_d{\\left(t \\right)} + \\frac{d^{2}}{d t^{2}} \\delta \\hat{q}_d{\\left(t \\right)} = 0$"
      ],
      "text/plain": [
       "<IPython.core.display.Math object>"
      ]
     },
     "metadata": {},
     "output_type": "display_data"
    }
   ],
   "source": [
    "# fluctuation modes\n",
    "delta_alpha_t = Function('\\\\delta \\\\hat{\\\\alpha}', complex=True)(t)\n",
    "delta_q_c_t = Function('\\\\delta \\\\hat{q}_c', complex=True)(t)\n",
    "delta_q_d_t = Function('\\\\delta \\\\hat{q}_d', complex=True)(t)\n",
    "\n",
    "# transformations\n",
    "expr_eta_l = alpha_s * (gamma_o - 2 * I * Delta) / 2\n",
    "list_subs = [(alpha_t, alpha_s + delta_alpha_t), (q_c_t, expr_q_cs + delta_q_c_t), (q_d_t, expr_q_ds + delta_q_d_t), (Delta_t, expr_Delta_t), (eta_l, expr_eta_l)]\n",
    "expr_delta_alpha_t = expr_alpha_t.subs(list_subs).doit().expand()\n",
    "expr_delta_q_c_t = expr_q_c_t.subs(list_subs).doit().expand().cancel()\n",
    "expr_delta_q_d_t = expr_q_d_t.subs(list_subs).doit().expand().cancel()\n",
    "\n",
    "# ignore second order terms\n",
    "list_subs = [(delta_q_c_t * delta_alpha_t, 0), (delta_q_d_t * delta_alpha_t, 0), (Dagger(delta_alpha_t) * delta_alpha_t, 0)]\n",
    "expr_delta_alpha_t = expr_delta_alpha_t.subs(list_subs).collect(I * G * alpha_s)\n",
    "expr_delta_q_c_t = expr_delta_q_c_t.subs(list_subs).collect(omega_c_p * G)\n",
    "expr_delta_q_d_t = expr_delta_q_d_t.subs(list_subs).collect(omega_d_p * G)\n",
    "\n",
    "# remove Math function to display LaTeX script\n",
    "display(Math(latex(expr_delta_alpha_t) + ' = 0'))\n",
    "display(Math(latex(expr_delta_q_c_t) + ' = 0'))\n",
    "display(Math(latex(expr_delta_q_d_t) + ' = 0'))"
   ]
  },
  {
   "cell_type": "markdown",
   "metadata": {},
   "source": [
    "## Ansatz for OMIT"
   ]
  },
  {
   "cell_type": "code",
   "execution_count": 7,
   "metadata": {},
   "outputs": [
    {
     "data": {
      "text/latex": [
       "$\\displaystyle A_{-} \\left(- i \\Delta - i \\delta + \\frac{\\gamma_{o}}{2}\\right) + i C_{-} G \\alpha_{s} + i D_{-} G \\alpha_{s} - \\eta_{p} = 0$"
      ],
      "text/plain": [
       "<IPython.core.display.Math object>"
      ]
     },
     "metadata": {},
     "output_type": "display_data"
    },
    {
     "data": {
      "text/latex": [
       "$\\displaystyle - i C_{-} G \\overline{\\alpha_{s}} - i D_{-} G \\overline{\\alpha_{s}} + \\left(i \\Delta - i \\delta + \\frac{\\gamma_{o}}{2}\\right) \\overline{A_{+}} = 0$"
      ],
      "text/plain": [
       "<IPython.core.display.Math object>"
      ]
     },
     "metadata": {},
     "output_type": "display_data"
    },
    {
     "data": {
      "text/latex": [
       "$\\displaystyle A_{-} G \\omega_c^\\prime \\overline{\\alpha_{s}} + C_{-} \\left(\\Omega_{c}^{2} - \\delta^{2} - i \\delta \\gamma_{c}\\right) + D_{-} \\mathcal{A} + G \\omega_c^\\prime \\alpha_{s} \\overline{A_{+}} = 0$"
      ],
      "text/plain": [
       "<IPython.core.display.Math object>"
      ]
     },
     "metadata": {},
     "output_type": "display_data"
    },
    {
     "data": {
      "text/latex": [
       "$\\displaystyle A_{-} G \\omega_d^\\prime \\overline{\\alpha_{s}} - C_{-} \\mathcal{A} + D_{-} \\left(\\Omega_{d}^{2} - \\delta^{2} - i \\delta \\gamma_{d}\\right) + G \\omega_d^\\prime \\alpha_{s} \\overline{A_{+}} = 0$"
      ],
      "text/plain": [
       "<IPython.core.display.Math object>"
      ]
     },
     "metadata": {},
     "output_type": "display_data"
    }
   ],
   "source": [
    "# ansatz parameters\n",
    "A_p, A_m, C_p, C_m, D_p, D_m = symbols('A_+, A_-, C_+, C_-, D_+, D_-', complex=True)\n",
    "\n",
    "# transformations\n",
    "list_subs = [(delta_alpha_t, A_p * exp(I * delta * t) + A_m * exp(-I * delta * t)), (delta_q_c_t, C_p * exp(I * delta * t) + C_m * exp(-I * delta * t)), (delta_q_d_t, D_p * exp(I * delta * t) + D_m * exp(-I * delta * t))]\n",
    "list_coll = [exp(-I * delta * t), exp(I * delta * t)]\n",
    "expr_delta_alpha_trans = expr_delta_alpha_t.subs(list_subs).doit().expand().collect(list_coll)\n",
    "expr_delta_q_c_trans = expr_delta_q_c_t.subs(list_subs).doit().expand().collect(list_coll)\n",
    "expr_delta_q_d_trans = expr_delta_q_d_t.subs(list_subs).doit().expand().collect(list_coll)\n",
    "\n",
    "# in-phase and out-of-phase coefficients\n",
    "expr_A_m_t = expr_delta_alpha_trans.coeff(exp(-I * delta * t))\n",
    "expr_A_p_t = expr_delta_alpha_trans.coeff(exp(I * delta * t))\n",
    "expr_C_m_t = expr_delta_q_c_trans.coeff(exp(-I * delta * t))\n",
    "expr_C_p_t = expr_delta_q_c_trans.coeff(exp(I * delta * t))\n",
    "expr_D_m_t = expr_delta_q_d_trans.coeff(exp(-I * delta * t))\n",
    "expr_D_p_t = expr_delta_q_d_trans.coeff(exp(I * delta * t))\n",
    "\n",
    "# unique equations\n",
    "list_subs = [(conjugate(C_p), C_m), (conjugate(D_p), D_m)]\n",
    "list_coll = [A_m, conjugate(A_p), C_m, D_m]\n",
    "expr_1 = expr_A_m_t.collect(list_coll)\n",
    "expr_2 = conjugate(expr_A_p_t).subs(list_subs).collect(list_coll)\n",
    "expr_3 = expr_C_m_t.collect(list_coll)\n",
    "expr_4 = expr_D_m_t.collect(list_coll)\n",
    "\n",
    "# remove Math function to display LaTeX script\n",
    "display(Math(latex(expr_1) + ' = 0'))\n",
    "display(Math(latex(expr_2) + ' = 0'))\n",
    "display(Math(latex(expr_3) + ' = 0'))\n",
    "display(Math(latex(expr_4) + ' = 0'))"
   ]
  },
  {
   "cell_type": "code",
   "execution_count": 8,
   "metadata": {},
   "outputs": [
    {
     "data": {
      "text/latex": [
       "$\\displaystyle A_{-} \\Gamma_{-} + i C_{-} G \\alpha_{s} + i D_{-} G \\alpha_{s} - \\eta_{p} = 0$"
      ],
      "text/plain": [
       "<IPython.core.display.Math object>"
      ]
     },
     "metadata": {},
     "output_type": "display_data"
    },
    {
     "data": {
      "text/latex": [
       "$\\displaystyle - i C_{-} G \\overline{\\alpha_{s}} - i D_{-} G \\overline{\\alpha_{s}} + \\Gamma_{+} \\overline{A_{+}} = 0$"
      ],
      "text/plain": [
       "<IPython.core.display.Math object>"
      ]
     },
     "metadata": {},
     "output_type": "display_data"
    },
    {
     "data": {
      "text/latex": [
       "$\\displaystyle A_{-} G \\omega_c^\\prime \\overline{\\alpha_{s}} + \\frac{C_{-}}{\\chi_c^\\prime} + D_{-} \\mathcal{A} + G \\omega_c^\\prime \\alpha_{s} \\overline{A_{+}} = 0$"
      ],
      "text/plain": [
       "<IPython.core.display.Math object>"
      ]
     },
     "metadata": {},
     "output_type": "display_data"
    },
    {
     "data": {
      "text/latex": [
       "$\\displaystyle A_{-} G \\omega_d^\\prime \\overline{\\alpha_{s}} - C_{-} \\mathcal{A} + \\frac{D_{-}}{\\chi_d^\\prime} + G \\omega_d^\\prime \\alpha_{s} \\overline{A_{+}} = 0$"
      ],
      "text/plain": [
       "<IPython.core.display.Math object>"
      ]
     },
     "metadata": {},
     "output_type": "display_data"
    }
   ],
   "source": [
    "#\n",
    "chi_c_p, chi_d_p, Gamma_p, Gamma_m = symbols('\\\\chi_c^\\\\prime, \\\\chi_d^\\\\prime, Gamma_+, Gamma_-', complex=True)\n",
    "\n",
    "# substitutions\n",
    "expr_Gamma_m = gamma_o / 2 - I * Delta - I * delta\n",
    "expr_Gamma_p = gamma_o / 2 + I * Delta - I * delta\n",
    "expr_chi_c_p_inv = Omega_c**2 - delta**2 - I * delta * gamma_c\n",
    "expr_chi_d_p_inv = Omega_d**2 - delta**2 - I * delta * gamma_d\n",
    "\n",
    "# new expressions\n",
    "list_subs = [(expr_Gamma_m, Gamma_m), (expr_Gamma_p, Gamma_p), (expr_chi_c_p_inv, 1 / chi_c_p), (expr_chi_d_p_inv, 1 / chi_d_p)]\n",
    "expr_1 = expr_1.subs(list_subs)\n",
    "expr_2 = expr_2.subs(list_subs)\n",
    "expr_3 = expr_3.subs(list_subs)\n",
    "expr_4 = expr_4.subs(list_subs)\n",
    "\n",
    "# remove Math function to display LaTeX script\n",
    "display(Math(latex(expr_1) + ' = 0'))\n",
    "display(Math(latex(expr_2) + ' = 0'))\n",
    "display(Math(latex(expr_3) + ' = 0'))\n",
    "display(Math(latex(expr_4) + ' = 0'))"
   ]
  },
  {
   "cell_type": "code",
   "execution_count": 9,
   "metadata": {},
   "outputs": [
    {
     "data": {
      "text/latex": [
       "$\\displaystyle A_{-}=\\frac{\\eta_{p} \\left(i G^{2} \\alpha_{s} \\left(\\chi_c^\\prime \\chi_d^\\prime \\mathcal{A} \\omega_c^\\prime - \\chi_c^\\prime \\chi_d^\\prime \\mathcal{A} \\omega_d^\\prime + \\chi_c^\\prime \\omega_c^\\prime + \\chi_d^\\prime \\omega_d^\\prime\\right) \\overline{\\alpha_{s}} + \\Gamma_{+} \\left(\\chi_c^\\prime \\chi_d^\\prime \\mathcal{A}^{2} + 1\\right)\\right)}{2 \\Delta G^{2} \\alpha_{s} \\left(\\chi_c^\\prime \\chi_d^\\prime \\mathcal{A} \\omega_c^\\prime - \\chi_c^\\prime \\chi_d^\\prime \\mathcal{A} \\omega_d^\\prime + \\chi_c^\\prime \\omega_c^\\prime + \\chi_d^\\prime \\omega_d^\\prime\\right) \\overline{\\alpha_{s}} + \\Gamma_{+} \\Gamma_{-} \\left(\\chi_c^\\prime \\chi_d^\\prime \\mathcal{A}^{2} + 1\\right)}$"
      ],
      "text/plain": [
       "<IPython.core.display.Math object>"
      ]
     },
     "metadata": {},
     "output_type": "display_data"
    },
    {
     "data": {
      "text/latex": [
       "$\\displaystyle \\overline{A_{+}}=- \\frac{i G^{2} \\eta_{p} \\left(\\chi_c^\\prime \\chi_d^\\prime \\mathcal{A} \\omega_c^\\prime - \\chi_c^\\prime \\chi_d^\\prime \\mathcal{A} \\omega_d^\\prime + \\chi_c^\\prime \\omega_c^\\prime + \\chi_d^\\prime \\omega_d^\\prime\\right) \\overline{\\alpha_{s}}^{2}}{2 \\Delta G^{2} \\alpha_{s} \\left(\\chi_c^\\prime \\chi_d^\\prime \\mathcal{A} \\omega_c^\\prime - \\chi_c^\\prime \\chi_d^\\prime \\mathcal{A} \\omega_d^\\prime + \\chi_c^\\prime \\omega_c^\\prime + \\chi_d^\\prime \\omega_d^\\prime\\right) \\overline{\\alpha_{s}} + \\Gamma_{+} \\Gamma_{-} \\left(\\chi_c^\\prime \\chi_d^\\prime \\mathcal{A}^{2} + 1\\right)}$"
      ],
      "text/plain": [
       "<IPython.core.display.Math object>"
      ]
     },
     "metadata": {},
     "output_type": "display_data"
    }
   ],
   "source": [
    "# solution\n",
    "sols = solve([expr_1, expr_2, expr_3, expr_4], [A_m, conjugate(A_p), C_m, D_m])\n",
    "expr_A_m = sols[A_m]\n",
    "expr_A_p_conj = sols[conjugate(A_p)]\n",
    "\n",
    "# substitution\n",
    "list_coll = [I * G**2 * alpha_s * conjugate(alpha_s) * A * chi_c_p * chi_d_p * omega_c_p, I * G**2 * alpha_s * conjugate(alpha_s) * A * chi_c_p * chi_d_p * omega_d_p, I * G**2 * alpha_s * conjugate(alpha_s) * chi_c_p * omega_c_p, I * G**2 * alpha_s * conjugate(alpha_s) * chi_d_p * omega_d_p]\n",
    "list_subs = [(Gamma_m - Gamma_p, expr_Gamma_m - expr_Gamma_p)]\n",
    "expr_A_m = expr_A_m.collect(list_coll).subs(list_subs)\n",
    "expr_A_p_conj = expr_A_p_conj.collect(list_coll).subs(list_subs)\n",
    "list_coll = [I * G**2 * alpha_s * conjugate(alpha_s), Delta * G**2 * alpha_s * conjugate(alpha_s)]\n",
    "expr_A_m = expr_A_m.subs(Gamma_m - Gamma_p, expr_Gamma_m - expr_Gamma_p).collect(list_coll)\n",
    "expr_A_p_conj = expr_A_p_conj.subs(Gamma_m - Gamma_p, expr_Gamma_m - expr_Gamma_p).collect(list_coll)\n",
    "\n",
    "# simplify\n",
    "list_coll = [Gamma_p, Gamma_p * Gamma_m]\n",
    "expr_A_m = expr_A_m.collect(list_coll).simplify()\n",
    "expr_A_p_conj = expr_A_p_conj.collect(list_coll).simplify()\n",
    "\n",
    "# remove Math function to display LaTeX script\n",
    "display(Math(latex(A_m) + '=' + latex(expr_A_m)))\n",
    "display(Math(latex(conjugate(A_p)) + '=' + latex(expr_A_p_conj)))"
   ]
  },
  {
   "cell_type": "code",
   "execution_count": 10,
   "metadata": {},
   "outputs": [
    {
     "data": {
      "text/latex": [
       "$\\displaystyle A_{-}=\\frac{\\eta_{p} \\left(i G^{2} \\Lambda \\alpha_{s} \\overline{\\alpha_{s}} + \\Gamma_{+}\\right)}{2 \\Delta G^{2} \\Lambda \\alpha_{s} \\overline{\\alpha_{s}} + \\Gamma_{+} \\Gamma_{-}}$"
      ],
      "text/plain": [
       "<IPython.core.display.Math object>"
      ]
     },
     "metadata": {},
     "output_type": "display_data"
    },
    {
     "data": {
      "text/latex": [
       "$\\displaystyle \\overline{A_{+}}=- \\frac{i G^{2} \\Lambda \\eta_{p} \\overline{\\alpha_{s}}^{2}}{2 \\Delta G^{2} \\Lambda \\alpha_{s} \\overline{\\alpha_{s}} + \\Gamma_{+} \\Gamma_{-}}$"
      ],
      "text/plain": [
       "<IPython.core.display.Math object>"
      ]
     },
     "metadata": {},
     "output_type": "display_data"
    }
   ],
   "source": [
    "# temporary variables\n",
    "Lambda = symbols('Lambda', real=True)\n",
    "\n",
    "# substitutions\n",
    "expr_Lambda = (A * chi_c_p * chi_d_p * omega_c_p - A * chi_c_p * chi_d_p * omega_d_p + chi_c_p * omega_c_p + chi_d_p * omega_d_p) / (A**2 * chi_c_p * chi_d_p + 1)\n",
    "\n",
    "# substitute\n",
    "list_coll = [expr_Lambda * (A**2 * chi_c_p * chi_d_p + 1)]\n",
    "list_subs = [(expr_Lambda * (A**2 * chi_c_p * chi_d_p + 1), Lambda * (A**2 * chi_c_p * chi_d_p + 1))]\n",
    "expr_A_m = expr_A_m.collect(list_coll).subs(list_subs).simplify()\n",
    "expr_A_p_conj = expr_A_p_conj.collect(list_coll).subs(list_subs).simplify()\n",
    "\n",
    "# remove Math function to display LaTeX script\n",
    "display(Math(latex(A_m) + '=' + latex(expr_A_m)))\n",
    "display(Math(latex(conjugate(A_p)) + '=' + latex(expr_A_p_conj)))"
   ]
  },
  {
   "cell_type": "code",
   "execution_count": 11,
   "metadata": {},
   "outputs": [
    {
     "data": {
      "text/latex": [
       "$\\displaystyle t_p = - \\frac{A_{-} \\gamma_{o} \\mu}{\\eta_{p}} + 1$"
      ],
      "text/plain": [
       "<IPython.core.display.Math object>"
      ]
     },
     "metadata": {},
     "output_type": "display_data"
    }
   ],
   "source": [
    "# input-output expression\n",
    "expr_a_out = eta_p / sqrt(mu * gamma_o) - sqrt(mu * gamma_o) * A_m\n",
    "\n",
    "# transmission coefficient\n",
    "expr_t_p = expr_a_out / eta_p * sqrt(mu * gamma_o)\n",
    "expr_t_p = expr_t_p.expand()\n",
    "\n",
    "# remove Math function to display LaTeX script\n",
    "display(Math('t_p = ' + latex(expr_t_p)))"
   ]
  },
  {
   "cell_type": "markdown",
   "metadata": {},
   "source": [
    "## Resolved Sideband Regime"
   ]
  },
  {
   "cell_type": "code",
   "execution_count": 12,
   "metadata": {},
   "outputs": [
    {
     "data": {
      "text/latex": [
       "$\\displaystyle A_{-} \\Gamma_{-} + i C_{-} G \\alpha_{s} + i D_{-} G \\alpha_{s} - \\eta_{p} = 0$"
      ],
      "text/plain": [
       "<IPython.core.display.Math object>"
      ]
     },
     "metadata": {},
     "output_type": "display_data"
    },
    {
     "data": {
      "text/latex": [
       "$\\displaystyle A_{-} G \\omega_c^\\prime \\overline{\\alpha_{s}} + \\frac{C_{-}}{\\chi_c^\\prime} + D_{-} \\mathcal{A} = 0$"
      ],
      "text/plain": [
       "<IPython.core.display.Math object>"
      ]
     },
     "metadata": {},
     "output_type": "display_data"
    },
    {
     "data": {
      "text/latex": [
       "$\\displaystyle A_{-} G \\omega_d^\\prime \\overline{\\alpha_{s}} - C_{-} \\mathcal{A} + \\frac{D_{-}}{\\chi_d^\\prime} = 0$"
      ],
      "text/plain": [
       "<IPython.core.display.Math object>"
      ]
     },
     "metadata": {},
     "output_type": "display_data"
    }
   ],
   "source": [
    "# amplitude relations\n",
    "list_subs = [(conjugate(A_p), 0)]\n",
    "expr_1_resolved = expr_1\n",
    "expr_2_resolved = expr_3.subs(list_subs)\n",
    "expr_3_resolved = expr_4.subs(list_subs)\n",
    "\n",
    "# remove Math function to display LaTeX script\n",
    "display(Math(latex(expr_1_resolved) + ' = 0'))\n",
    "display(Math(latex(expr_2_resolved) + ' = 0'))\n",
    "display(Math(latex(expr_3_resolved) + ' = 0'))"
   ]
  },
  {
   "cell_type": "code",
   "execution_count": 16,
   "metadata": {},
   "outputs": [
    {
     "data": {
      "text/latex": [
       "$\\displaystyle A_- = - \\frac{\\eta_{p}}{i G^{2} \\Lambda \\alpha_{s} \\overline{\\alpha_{s}} - \\Gamma_{-}}$"
      ],
      "text/plain": [
       "<IPython.core.display.Math object>"
      ]
     },
     "metadata": {},
     "output_type": "display_data"
    }
   ],
   "source": [
    "# solution\n",
    "sols = solve([expr_1_resolved, expr_2_resolved, expr_3_resolved], [A_m, C_m, D_m])\n",
    "expr_A_m = sols[A_m]\n",
    "list_coll = [I * G**2 * alpha_s * conjugate(alpha_s), Gamma_m]\n",
    "list_subs = [(expr_Lambda * (A**2 * chi_c_p * chi_d_p + 1), Lambda * (A**2 * chi_c_p * chi_d_p + 1))]\n",
    "expr_A_m = expr_A_m.collect(list_coll).subs(list_subs).simplify()\n",
    "\n",
    "# remove Math function to display LaTeX script\n",
    "display(Math('A_- = ' + latex(expr_A_m)))"
   ]
  }
 ],
 "metadata": {
  "kernelspec": {
   "display_name": "Python 3.7.6 64-bit ('base': conda)",
   "language": "python",
   "name": "python37664bitbasecondab2019f08627a42e98f52679f186c74d3"
  },
  "language_info": {
   "codemirror_mode": {
    "name": "ipython",
    "version": 3
   },
   "file_extension": ".py",
   "mimetype": "text/x-python",
   "name": "python",
   "nbconvert_exporter": "python",
   "pygments_lexer": "ipython3",
   "version": "3.8.3"
  }
 },
 "nbformat": 4,
 "nbformat_minor": 2
}
