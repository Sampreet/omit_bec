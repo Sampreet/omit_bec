{
 "cells": [
  {
   "cell_type": "markdown",
   "metadata": {},
   "source": [
    "# Approximated Expression for Transmission for a BEC-OM Model with a weak probe laser and a strong control laser containing OAM (BEC_10)"
   ]
  },
  {
   "cell_type": "markdown",
   "metadata": {},
   "source": [
    "## Initialization"
   ]
  },
  {
   "cell_type": "code",
   "execution_count": 1,
   "metadata": {},
   "outputs": [],
   "source": [
    "# dependencies\n",
    "from IPython.display import display, Math\n",
    "from sympy import *\n",
    "from sympy.physics.quantum import Commutator, Dagger, Operator\n",
    "from sympy.physics.quantum.constants import hbar\n",
    "\n",
    "init_printing(use_latex=True)"
   ]
  },
  {
   "cell_type": "code",
   "execution_count": 2,
   "metadata": {},
   "outputs": [],
   "source": [
    "# system parameters\n",
    "G, gamma_m, gamma_o, mu, N_o, omega_c, omega_d = symbols('G, gamma_m, gamma_o, mu, N_o, omega_c, omega_d', real=True, positive=True)"
   ]
  },
  {
   "cell_type": "markdown",
   "metadata": {},
   "source": [
    "## Substituted Expressions"
   ]
  },
  {
   "cell_type": "code",
   "execution_count": 3,
   "metadata": {},
   "outputs": [
    {
     "data": {
      "text/latex": [
       "$\\displaystyle \\Gamma_{+} = \\frac{i G^{2} N_{o}}{\\omega_{d}} + \\frac{i G^{2} N_{o}}{\\omega_{c}} + \\frac{\\gamma_{o}}{2} - i \\omega_{c}$"
      ],
      "text/plain": [
       "<IPython.core.display.Math object>"
      ]
     },
     "metadata": {},
     "output_type": "display_data"
    },
    {
     "data": {
      "text/latex": [
       "$\\displaystyle \\Gamma_{-} = - \\frac{i G^{2} N_{o}}{\\omega_{d}} - \\frac{i G^{2} N_{o}}{\\omega_{c}} + \\frac{\\gamma_{o}}{2} + i \\omega_{c} - 2 i \\omega_{d}$"
      ],
      "text/plain": [
       "<IPython.core.display.Math object>"
      ]
     },
     "metadata": {},
     "output_type": "display_data"
    }
   ],
   "source": [
    "Delta_tilde = - omega_c + omega_d\n",
    "delta = omega_d\n",
    "C = G**2 * (1 / omega_c + 1 / omega_d)\n",
    "Delta = Delta_tilde + C * N_o\n",
    "Gamma_m = (gamma_o / 2 - I * Delta - I * delta).expand()\n",
    "Gamma_p = (gamma_o / 2 + I * Delta - I * delta).expand()\n",
    "\n",
    "# remove Math function to display LaTeX script\n",
    "display(Math('\\Gamma_{+} = ' + latex(Gamma_p)))\n",
    "display(Math('\\Gamma_{-} = ' + latex(Gamma_m)))"
   ]
  },
  {
   "cell_type": "code",
   "execution_count": 4,
   "metadata": {},
   "outputs": [
    {
     "data": {
      "text/latex": [
       "$\\displaystyle \\chi_{c} = \\frac{1}{- i \\gamma_{m} \\omega_{d} + \\omega_{c}^{2} - \\omega_{d}^{2}}$"
      ],
      "text/plain": [
       "<IPython.core.display.Math object>"
      ]
     },
     "metadata": {},
     "output_type": "display_data"
    },
    {
     "data": {
      "text/latex": [
       "$\\displaystyle \\chi_{d} = \\frac{i}{\\gamma_{m} \\omega_{d}}$"
      ],
      "text/plain": [
       "<IPython.core.display.Math object>"
      ]
     },
     "metadata": {},
     "output_type": "display_data"
    },
    {
     "data": {
      "text/latex": [
       "$\\displaystyle \\Lambda = \\frac{i \\left(\\omega_{c} + \\omega_{d}\\right) \\left(\\gamma_{m} + i \\omega_{c} - i \\omega_{d}\\right)}{\\gamma_{m} \\left(\\gamma_{m} \\omega_{d} + i \\omega_{c}^{2} - i \\omega_{d}^{2}\\right)}$"
      ],
      "text/plain": [
       "<IPython.core.display.Math object>"
      ]
     },
     "metadata": {},
     "output_type": "display_data"
    }
   ],
   "source": [
    "chi_c = 1 / (omega_c**2 - I * delta * gamma_m - delta**2)\n",
    "chi_d = 1 / (omega_d**2 - I * delta * gamma_m - delta**2)\n",
    "Lamb = (chi_c * omega_c + chi_d * omega_d).factor()\n",
    "\n",
    "# remove Math function to display LaTeX script\n",
    "display(Math('\\chi_{c} = ' + latex(chi_c)))\n",
    "display(Math('\\chi_{d} = ' + latex(chi_d)))\n",
    "display(Math('\\Lambda = ' + latex(Lamb)))"
   ]
  },
  {
   "cell_type": "markdown",
   "metadata": {},
   "source": [
    "## Numerator of Transmission"
   ]
  },
  {
   "cell_type": "code",
   "execution_count": 5,
   "metadata": {},
   "outputs": [
    {
     "data": {
      "text/latex": [
       "$\\displaystyle num_num = 2 i G^{2} N_{o} \\gamma_{m}^{2} \\gamma_{o} \\mu \\omega_{c} \\omega_{d} + 2 i G^{2} N_{o} \\gamma_{m}^{2} \\gamma_{o} \\mu \\omega_{d}^{2} - 2 G^{2} N_{o} \\gamma_{m} \\gamma_{o} \\mu \\omega_{c}^{3} - 4 G^{2} N_{o} \\gamma_{m} \\gamma_{o} \\mu \\omega_{c}^{2} \\omega_{d} + 2 G^{2} N_{o} \\gamma_{m} \\gamma_{o} \\mu \\omega_{d}^{3} - 2 i G^{2} N_{o} \\gamma_{o} \\mu \\omega_{c}^{3} \\omega_{d} + 2 i G^{2} N_{o} \\gamma_{o} \\mu \\omega_{c} \\omega_{d}^{3} + \\gamma_{m}^{2} \\gamma_{o}^{2} \\mu \\omega_{c} \\omega_{d}^{2} - 2 i \\gamma_{m}^{2} \\gamma_{o} \\mu \\omega_{c}^{2} \\omega_{d}^{2} + i \\gamma_{m} \\gamma_{o}^{2} \\mu \\omega_{c}^{3} \\omega_{d} - i \\gamma_{m} \\gamma_{o}^{2} \\mu \\omega_{c} \\omega_{d}^{3} + 2 \\gamma_{m} \\gamma_{o} \\mu \\omega_{c}^{4} \\omega_{d} - 2 \\gamma_{m} \\gamma_{o} \\mu \\omega_{c}^{2} \\omega_{d}^{3}$"
      ],
      "text/plain": [
       "<IPython.core.display.Math object>"
      ]
     },
     "metadata": {},
     "output_type": "display_data"
    },
    {
     "data": {
      "text/latex": [
       "$\\displaystyle num_den = 2 \\gamma_{m} \\omega_{c} \\omega_{d} \\left(\\gamma_{m} \\omega_{d} + i \\omega_{c}^{2} - i \\omega_{d}^{2}\\right)$"
      ],
      "text/plain": [
       "<IPython.core.display.Math object>"
      ]
     },
     "metadata": {},
     "output_type": "display_data"
    }
   ],
   "source": [
    "num = (mu * gamma_o * (Gamma_p + I * G**2 * Lamb * N_o)).factor()\n",
    "num_num, num_den = fraction(num)\n",
    "num_num = num_num.expand()\n",
    "\n",
    "# remove Math function to display LaTeX script\n",
    "display(Math('num_num = ' + latex(num_num)))\n",
    "display(Math('num_den = ' + latex(num_den)))"
   ]
  },
  {
   "cell_type": "markdown",
   "metadata": {},
   "source": [
    "## Denominator of Transmission"
   ]
  },
  {
   "cell_type": "code",
   "execution_count": 6,
   "metadata": {},
   "outputs": [
    {
     "data": {
      "text/latex": [
       "$\\displaystyle den_num = 4 G^{4} N_{o}^{2} \\gamma_{m}^{2} \\omega_{c}^{2} \\omega_{d} + 8 G^{4} N_{o}^{2} \\gamma_{m}^{2} \\omega_{c} \\omega_{d}^{2} + 4 G^{4} N_{o}^{2} \\gamma_{m}^{2} \\omega_{d}^{3} + 4 i G^{4} N_{o}^{2} \\gamma_{m} \\omega_{c}^{4} + 16 i G^{4} N_{o}^{2} \\gamma_{m} \\omega_{c}^{3} \\omega_{d} + 16 i G^{4} N_{o}^{2} \\gamma_{m} \\omega_{c}^{2} \\omega_{d}^{2} - 4 i G^{4} N_{o}^{2} \\gamma_{m} \\omega_{d}^{4} - 8 G^{4} N_{o}^{2} \\omega_{c}^{4} \\omega_{d} - 8 G^{4} N_{o}^{2} \\omega_{c}^{3} \\omega_{d}^{2} + 8 G^{4} N_{o}^{2} \\omega_{c}^{2} \\omega_{d}^{3} + 8 G^{4} N_{o}^{2} \\omega_{c} \\omega_{d}^{4} - 8 G^{2} N_{o} \\gamma_{m}^{2} \\omega_{c}^{3} \\omega_{d}^{2} + 8 G^{2} N_{o} \\gamma_{m}^{2} \\omega_{c} \\omega_{d}^{4} - 8 i G^{2} N_{o} \\gamma_{m} \\omega_{c}^{5} \\omega_{d} - 8 i G^{2} N_{o} \\gamma_{m} \\omega_{c}^{4} \\omega_{d}^{2} + 16 i G^{2} N_{o} \\gamma_{m} \\omega_{c}^{3} \\omega_{d}^{3} + 8 i G^{2} N_{o} \\gamma_{m} \\omega_{c}^{2} \\omega_{d}^{4} - 8 i G^{2} N_{o} \\gamma_{m} \\omega_{c} \\omega_{d}^{5} + 8 G^{2} N_{o} \\omega_{c}^{5} \\omega_{d}^{2} - 8 G^{2} N_{o} \\omega_{c}^{4} \\omega_{d}^{3} - 8 G^{2} N_{o} \\omega_{c}^{3} \\omega_{d}^{4} + 8 G^{2} N_{o} \\omega_{c}^{2} \\omega_{d}^{5} + \\gamma_{m}^{2} \\gamma_{o}^{2} \\omega_{c}^{2} \\omega_{d}^{3} - 4 i \\gamma_{m}^{2} \\gamma_{o} \\omega_{c}^{2} \\omega_{d}^{4} + 4 \\gamma_{m}^{2} \\omega_{c}^{4} \\omega_{d}^{3} - 8 \\gamma_{m}^{2} \\omega_{c}^{3} \\omega_{d}^{4} + i \\gamma_{m} \\gamma_{o}^{2} \\omega_{c}^{4} \\omega_{d}^{2} - i \\gamma_{m} \\gamma_{o}^{2} \\omega_{c}^{2} \\omega_{d}^{4} + 4 \\gamma_{m} \\gamma_{o} \\omega_{c}^{4} \\omega_{d}^{3} - 4 \\gamma_{m} \\gamma_{o} \\omega_{c}^{2} \\omega_{d}^{5} + 4 i \\gamma_{m} \\omega_{c}^{6} \\omega_{d}^{2} - 8 i \\gamma_{m} \\omega_{c}^{5} \\omega_{d}^{3} - 4 i \\gamma_{m} \\omega_{c}^{4} \\omega_{d}^{4} + 8 i \\gamma_{m} \\omega_{c}^{3} \\omega_{d}^{5}$"
      ],
      "text/plain": [
       "<IPython.core.display.Math object>"
      ]
     },
     "metadata": {},
     "output_type": "display_data"
    },
    {
     "data": {
      "text/latex": [
       "$\\displaystyle den_den = 4 \\gamma_{m} \\omega_{c}^{2} \\omega_{d}^{2} \\left(\\gamma_{m} \\omega_{d} + i \\omega_{c}^{2} - i \\omega_{d}^{2}\\right)$"
      ],
      "text/plain": [
       "<IPython.core.display.Math object>"
      ]
     },
     "metadata": {},
     "output_type": "display_data"
    }
   ],
   "source": [
    "den = (Gamma_p * Gamma_m + 2 * Delta * G**2 * Lamb * N_o).simplify()\n",
    "den_num, den_den = fraction(den)\n",
    "den_num = den_num.expand()\n",
    "\n",
    "# remove Math function to display LaTeX script\n",
    "display(Math('den_num = ' + latex(den_num)))\n",
    "display(Math('den_den = ' + latex(den_den)))"
   ]
  },
  {
   "cell_type": "markdown",
   "metadata": {},
   "source": [
    "## Simplified Numerator"
   ]
  },
  {
   "cell_type": "code",
   "execution_count": 7,
   "metadata": {},
   "outputs": [
    {
     "data": {
      "text/latex": [
       "$\\displaystyle expr = 16 G^{6} N_{o}^{3} \\gamma_{m}^{3} \\gamma_{o} \\mu \\omega_{c}^{5} \\omega_{d}^{3} + 48 G^{6} N_{o}^{3} \\gamma_{m}^{3} \\gamma_{o} \\mu \\omega_{c}^{4} \\omega_{d}^{4} + 48 G^{6} N_{o}^{3} \\gamma_{m}^{3} \\gamma_{o} \\mu \\omega_{c}^{3} \\omega_{d}^{5} + 16 G^{6} N_{o}^{3} \\gamma_{m}^{3} \\gamma_{o} \\mu \\omega_{c}^{2} \\omega_{d}^{6} + 16 G^{6} N_{o}^{3} \\gamma_{m} \\gamma_{o} \\mu \\omega_{c}^{8} \\omega_{d}^{2} + 32 G^{6} N_{o}^{3} \\gamma_{m} \\gamma_{o} \\mu \\omega_{c}^{7} \\omega_{d}^{3} - 16 G^{6} N_{o}^{3} \\gamma_{m} \\gamma_{o} \\mu \\omega_{c}^{6} \\omega_{d}^{4} - 64 G^{6} N_{o}^{3} \\gamma_{m} \\gamma_{o} \\mu \\omega_{c}^{5} \\omega_{d}^{5} - 16 G^{6} N_{o}^{3} \\gamma_{m} \\gamma_{o} \\mu \\omega_{c}^{4} \\omega_{d}^{6} + 32 G^{6} N_{o}^{3} \\gamma_{m} \\gamma_{o} \\mu \\omega_{c}^{3} \\omega_{d}^{7} + 16 G^{6} N_{o}^{3} \\gamma_{m} \\gamma_{o} \\mu \\omega_{c}^{2} \\omega_{d}^{8} + 8 G^{4} N_{o}^{2} \\gamma_{m}^{4} \\gamma_{o}^{2} \\mu \\omega_{c}^{4} \\omega_{d}^{4} + 16 G^{4} N_{o}^{2} \\gamma_{m}^{4} \\gamma_{o}^{2} \\mu \\omega_{c}^{3} \\omega_{d}^{5} + 8 G^{4} N_{o}^{2} \\gamma_{m}^{4} \\gamma_{o}^{2} \\mu \\omega_{c}^{2} \\omega_{d}^{6} - 32 G^{4} N_{o}^{2} \\gamma_{m}^{3} \\gamma_{o} \\mu \\omega_{c}^{6} \\omega_{d}^{4} - 64 G^{4} N_{o}^{2} \\gamma_{m}^{3} \\gamma_{o} \\mu \\omega_{c}^{5} \\omega_{d}^{5} - 32 G^{4} N_{o}^{2} \\gamma_{m}^{3} \\gamma_{o} \\mu \\omega_{c}^{4} \\omega_{d}^{6} + 8 G^{4} N_{o}^{2} \\gamma_{m}^{2} \\gamma_{o}^{2} \\mu \\omega_{c}^{8} \\omega_{d}^{2} + 32 G^{4} N_{o}^{2} \\gamma_{m}^{2} \\gamma_{o}^{2} \\mu \\omega_{c}^{7} \\omega_{d}^{3} + 8 G^{4} N_{o}^{2} \\gamma_{m}^{2} \\gamma_{o}^{2} \\mu \\omega_{c}^{6} \\omega_{d}^{4} - 48 G^{4} N_{o}^{2} \\gamma_{m}^{2} \\gamma_{o}^{2} \\mu \\omega_{c}^{5} \\omega_{d}^{5} - 24 G^{4} N_{o}^{2} \\gamma_{m}^{2} \\gamma_{o}^{2} \\mu \\omega_{c}^{4} \\omega_{d}^{6} + 16 G^{4} N_{o}^{2} \\gamma_{m}^{2} \\gamma_{o}^{2} \\mu \\omega_{c}^{3} \\omega_{d}^{7} + 8 G^{4} N_{o}^{2} \\gamma_{m}^{2} \\gamma_{o}^{2} \\mu \\omega_{c}^{2} \\omega_{d}^{8} - 32 G^{4} N_{o}^{2} \\gamma_{m} \\gamma_{o} \\mu \\omega_{c}^{9} \\omega_{d}^{3} - 32 G^{4} N_{o}^{2} \\gamma_{m} \\gamma_{o} \\mu \\omega_{c}^{8} \\omega_{d}^{4} + 64 G^{4} N_{o}^{2} \\gamma_{m} \\gamma_{o} \\mu \\omega_{c}^{7} \\omega_{d}^{5} + 64 G^{4} N_{o}^{2} \\gamma_{m} \\gamma_{o} \\mu \\omega_{c}^{6} \\omega_{d}^{6} - 32 G^{4} N_{o}^{2} \\gamma_{m} \\gamma_{o} \\mu \\omega_{c}^{5} \\omega_{d}^{7} - 32 G^{4} N_{o}^{2} \\gamma_{m} \\gamma_{o} \\mu \\omega_{c}^{4} \\omega_{d}^{8} - 16 G^{2} N_{o} \\gamma_{m}^{4} \\gamma_{o}^{2} \\mu \\omega_{c}^{5} \\omega_{d}^{5} - 16 G^{2} N_{o} \\gamma_{m}^{4} \\gamma_{o}^{2} \\mu \\omega_{c}^{4} \\omega_{d}^{6} - 4 G^{2} N_{o} \\gamma_{m}^{3} \\gamma_{o}^{3} \\mu \\omega_{c}^{5} \\omega_{d}^{5} - 4 G^{2} N_{o} \\gamma_{m}^{3} \\gamma_{o}^{3} \\mu \\omega_{c}^{4} \\omega_{d}^{6} + 16 G^{2} N_{o} \\gamma_{m}^{3} \\gamma_{o} \\mu \\omega_{c}^{7} \\omega_{d}^{5} + 16 G^{2} N_{o} \\gamma_{m}^{3} \\gamma_{o} \\mu \\omega_{c}^{6} \\omega_{d}^{6} - 16 G^{2} N_{o} \\gamma_{m}^{2} \\gamma_{o}^{2} \\mu \\omega_{c}^{9} \\omega_{d}^{3} - 32 G^{2} N_{o} \\gamma_{m}^{2} \\gamma_{o}^{2} \\mu \\omega_{c}^{8} \\omega_{d}^{4} + 32 G^{2} N_{o} \\gamma_{m}^{2} \\gamma_{o}^{2} \\mu \\omega_{c}^{7} \\omega_{d}^{5} + 48 G^{2} N_{o} \\gamma_{m}^{2} \\gamma_{o}^{2} \\mu \\omega_{c}^{6} \\omega_{d}^{6} - 16 G^{2} N_{o} \\gamma_{m}^{2} \\gamma_{o}^{2} \\mu \\omega_{c}^{5} \\omega_{d}^{7} - 16 G^{2} N_{o} \\gamma_{m}^{2} \\gamma_{o}^{2} \\mu \\omega_{c}^{4} \\omega_{d}^{8} - 4 G^{2} N_{o} \\gamma_{m} \\gamma_{o}^{3} \\mu \\omega_{c}^{8} \\omega_{d}^{4} + 8 G^{2} N_{o} \\gamma_{m} \\gamma_{o}^{3} \\mu \\omega_{c}^{6} \\omega_{d}^{6} - 4 G^{2} N_{o} \\gamma_{m} \\gamma_{o}^{3} \\mu \\omega_{c}^{4} \\omega_{d}^{8} + 16 G^{2} N_{o} \\gamma_{m} \\gamma_{o} \\mu \\omega_{c}^{10} \\omega_{d}^{4} - 32 G^{2} N_{o} \\gamma_{m} \\gamma_{o} \\mu \\omega_{c}^{8} \\omega_{d}^{6} + 16 G^{2} N_{o} \\gamma_{m} \\gamma_{o} \\mu \\omega_{c}^{6} \\omega_{d}^{8} + 2 \\gamma_{m}^{4} \\gamma_{o}^{4} \\mu \\omega_{c}^{4} \\omega_{d}^{6} + 8 \\gamma_{m}^{4} \\gamma_{o}^{2} \\mu \\omega_{c}^{6} \\omega_{d}^{6} + 2 \\gamma_{m}^{2} \\gamma_{o}^{4} \\mu \\omega_{c}^{8} \\omega_{d}^{4} - 4 \\gamma_{m}^{2} \\gamma_{o}^{4} \\mu \\omega_{c}^{6} \\omega_{d}^{6} + 2 \\gamma_{m}^{2} \\gamma_{o}^{4} \\mu \\omega_{c}^{4} \\omega_{d}^{8} + 8 \\gamma_{m}^{2} \\gamma_{o}^{2} \\mu \\omega_{c}^{10} \\omega_{d}^{4} - 16 \\gamma_{m}^{2} \\gamma_{o}^{2} \\mu \\omega_{c}^{8} \\omega_{d}^{6} + 8 \\gamma_{m}^{2} \\gamma_{o}^{2} \\mu \\omega_{c}^{6} \\omega_{d}^{8}$"
      ],
      "text/plain": [
       "<IPython.core.display.Math object>"
      ]
     },
     "metadata": {},
     "output_type": "display_data"
    }
   ],
   "source": [
    "expr = (num_num * den_den / num_den / den_num).simplify()\n",
    "expr_num, expr_den = fraction(expr)\n",
    "final_num = (expr_num * (re(expr_den) - I * im(expr_den))).expand()\n",
    "\n",
    "# remove Math function to display LaTeX script\n",
    "display(Math('expr = ' + latex(re(final_num))))"
   ]
  }
 ],
 "metadata": {
  "interpreter": {
   "hash": "ad2bdc8ecc057115af97d19610ffacc2b4e99fae6737bb82f5d7fb13d2f2c186"
  },
  "kernelspec": {
   "display_name": "Python 3.8.12 ('base')",
   "language": "python",
   "name": "python3"
  },
  "language_info": {
   "codemirror_mode": {
    "name": "ipython",
    "version": 3
   },
   "file_extension": ".py",
   "mimetype": "text/x-python",
   "name": "python",
   "nbconvert_exporter": "python",
   "pygments_lexer": "ipython3",
   "version": "3.8.12"
  },
  "orig_nbformat": 4
 },
 "nbformat": 4,
 "nbformat_minor": 2
}
